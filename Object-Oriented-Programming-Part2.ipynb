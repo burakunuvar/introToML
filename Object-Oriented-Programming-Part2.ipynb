{
 "cells": [
  {
   "cell_type": "markdown",
   "metadata": {},
   "source": [
    "### <u>Four Pillars of OOP </u>\n",
    "\n",
    " **1. Encapsulation** : Binding of data to functions which manipulate that data.\n",
    "   - Encapsulate into one big object to keep everything the box ( for users, code , other machines to interact ) \n",
    "   - That's where we have methods and attributes; instead of independent variables and functions \n",
    "   - Goal is to package variables and functions into a blueprint to creat multiple objects\n"
   ]
  },
  {
   "cell_type": "code",
   "execution_count": null,
   "metadata": {},
   "outputs": [],
   "source": [
    "# create an object and access its attribites :\n",
    "player1 = {\"name\":\"pinar\", \"age\":35}\n",
    "print(player1[\"name\"] + \" is \" + str(player1[\"age\"])) \n",
    "\n",
    "# or use a class to package things into boxes \n",
    "class PlayerCharacter:\n",
    "    def __init__(self,name,age):\n",
    "        self.name = name\n",
    "        self.age = age\n",
    "    def welcome_message(self):\n",
    "        print(f\"Hello {self.name}, happy {self.age}th birthday!\")\n",
    "player2 = PlayerCharacter(\"burak\",34)\n",
    "print(player2.name + \" is \" + str(player2.age)) "
   ]
  },
  {
   "cell_type": "markdown",
   "metadata": {},
   "source": [
    "**2. Abstraction** : hiding information to give access to only what is necessary\n",
    "   - For instance `(1,2,3,1,2).count(1)` doesn't show users what `count` is doing behind the hood \n",
    "   - It's good to have, but attributes and methods are not immutable ; so although not recommended they can be updated. \n",
    "   ```python\n",
    "    player2.name = \"name changed \" \n",
    "    player2.welcome_message = \"welcome message updated\" \n",
    "   ```\n",
    "**Public&Private Variables** : hiding information to give access to only what is necessary\n",
    "       - give access only when necessary by privacy ( doesn't exist in Python but there's a convention )\n",
    "       - `_`  - underscore is used before variables names to warn the users - but there's no guarantee \n",
    "       - `__` - double underscore is used by Dunder Methods which is built in Python, have special meanings \n",
    "\n"
   ]
  },
  {
   "cell_type": "code",
   "execution_count": null,
   "metadata": {},
   "outputs": [],
   "source": [
    "# users can use a method without knowing how it's programmed \n",
    "player2.welcome_message()\n",
    "# but attributes and methods are not immutable which might cause issues \n",
    "player2.name = \"name changed \" \n",
    "player2.welcome_message = \"welcome message updated\" \n",
    "player2.welcome_message"
   ]
  },
  {
   "cell_type": "markdown",
   "metadata": {},
   "source": [
    "**3. Inheritance** : allow new objects to take on the properties of existing ones\n",
    " - idea is to have a parent class and children classes  - aka sub or derived classes \n",
    " - `isinstance(instance,Class)` is a built-in function \n",
    " - An instance belongs to its own class, as well as its parent class "
   ]
  },
  {
   "cell_type": "code",
   "execution_count": null,
   "metadata": {},
   "outputs": [],
   "source": [
    "#parent class :\n",
    "#class ParentClass(object) \n",
    "#by default, object accepted as parentclass \n",
    "class ParentClass:\n",
    "    def intro(self):\n",
    "        print(\"parent class is shared across all other classes\")\n",
    "    def poly_common(self):\n",
    "        print(\"i belong to ParentClass\")\n",
    "        return \"i belong to ParentClass\"\n",
    "#child - derived - sub used interchangeably\n",
    "class ChildClass(ParentClass):\n",
    "    def __init__(self,name,age):\n",
    "        self.name = name\n",
    "        self.age = age\n",
    "    def child_intro(self):\n",
    "        print(f\"this is a child class --- {self.name}\") \n",
    "    def poly_common(self):\n",
    "        print('\\t==============')\n",
    "        print('\\tmessage from parent: ')\n",
    "        print(\"\\t\" + ParentClass.poly_common(self))\n",
    "        print('\\t==============')\n",
    "        print(\"i belong to ChildClass\")\n",
    "#child - derived - sub used interchangeably\n",
    "class DerivedClass(ParentClass):\n",
    "    def derived_intro(self):\n",
    "        print(\"this is a derived class\")\n",
    "        print(self)\n",
    "    def comment(self):\n",
    "        print(\"=== Inheritance === \")\n",
    "    def poly_common(self):\n",
    "        print(\"i belong to DerivedClass\")"
   ]
  },
  {
   "cell_type": "code",
   "execution_count": null,
   "metadata": {},
   "outputs": [],
   "source": [
    "#parent\n",
    "parent = ParentClass()\n",
    "parent.intro()\n",
    "#child - derived - sub used interchangeably\n",
    "child = ChildClass(\"burak\",34)\n",
    "child.child_intro()\n",
    "child.intro() \n",
    "#child - derived - sub used interchangeably\n",
    "derived = DerivedClass()\n",
    "derived.derived_intro()\n",
    "derived.intro() \n",
    "derived.comment()"
   ]
  },
  {
   "cell_type": "markdown",
   "metadata": {},
   "source": [
    " **reminder**: Everything in Python is an object \n",
    " - Everything in Python inherits from the base object class that Python comes with - object\n",
    " - Base Object Class is defined as `object` \n",
    " - So there are a number of default methods attached to defined classes automatically \n",
    " - which also means , any user-created class is accepting `object` as parent class "
   ]
  },
  {
   "cell_type": "code",
   "execution_count": null,
   "metadata": {},
   "outputs": [],
   "source": [
    "print(isinstance(ParentClass,object))\n",
    "print(isinstance(child,ParentClass))\n",
    "print(isinstance(child,ChildClass))\n",
    "print(isinstance(child,object))\n",
    "print(isinstance(derived,DerivedClass))"
   ]
  },
  {
   "cell_type": "markdown",
   "metadata": {},
   "source": [
    "**4. Polymorphism** : object classes can share the same method names acting differently \n",
    " - Ability to redefine methods for derived classes \n",
    " - So that an object can behave in different forms and different ways \n"
   ]
  },
  {
   "cell_type": "code",
   "execution_count": null,
   "metadata": {},
   "outputs": [],
   "source": [
    "parent.poly_common()\n",
    "child.poly_common()\n",
    "derived.poly_common()"
   ]
  },
  {
   "cell_type": "code",
   "execution_count": 9,
   "metadata": {},
   "outputs": [
    {
     "name": "stdout",
     "output_type": "stream",
     "text": [
      "simon is just walking around\n",
      "sally is just walking around\n",
      "garfield is just walking around\n"
     ]
    }
   ],
   "source": [
    "#EXERCISE\n",
    "\n",
    "class Pets():\n",
    "    animals = []\n",
    "    def __init__(self, animals):\n",
    "        self.animals = animals\n",
    "\n",
    "    def walk(self):\n",
    "        for animal in self.animals:\n",
    "            print(animal.walk())\n",
    "\n",
    "class Cat():\n",
    "    is_lazy = True\n",
    "\n",
    "    def __init__(self, name, age):\n",
    "        self.name = name\n",
    "        self.age = age\n",
    "\n",
    "    def walk(self):\n",
    "        return f'{self.name} is just walking around'\n",
    "\n",
    "class Simon(Cat):\n",
    "    def sing(self, sounds):\n",
    "        return f'{sounds}'\n",
    "\n",
    "class Sally(Cat):\n",
    "    def sing(self, sounds):\n",
    "        return f'{sounds}'\n",
    "\n",
    "#1 Add nother Cat\n",
    "\n",
    "class Garfield(Cat):\n",
    "    def sing(self, sounds):\n",
    "        return f'{sounds}'\n",
    "\n",
    "#2 Create a list of all of the pets (create 3 cat instances from the above)\n",
    "simon = Simon(\"simon\",4)\n",
    "sally = Sally(\"sally\",6)\n",
    "garfield = Garfield(\"garfield\",8)\n",
    "my_cats = [simon, sally, garfield]\n",
    "\n",
    "#3 Instantiate the Pet class with all your cats use variable my_pets\n",
    "\n",
    "my_pets = Pets(my_cats)\n",
    "\n",
    "#4 Output all of the cats walking using the my_pets instance\n",
    "\n",
    "my_pets.walk()"
   ]
  },
  {
   "cell_type": "code",
   "execution_count": null,
   "metadata": {},
   "outputs": [],
   "source": []
  },
  {
   "cell_type": "code",
   "execution_count": null,
   "metadata": {},
   "outputs": [],
   "source": []
  },
  {
   "cell_type": "code",
   "execution_count": null,
   "metadata": {},
   "outputs": [],
   "source": []
  },
  {
   "cell_type": "code",
   "execution_count": null,
   "metadata": {},
   "outputs": [],
   "source": []
  },
  {
   "cell_type": "code",
   "execution_count": null,
   "metadata": {},
   "outputs": [],
   "source": []
  },
  {
   "cell_type": "code",
   "execution_count": null,
   "metadata": {},
   "outputs": [],
   "source": []
  }
 ],
 "metadata": {
  "kernelspec": {
   "display_name": "conda_python3",
   "language": "python",
   "name": "conda_python3"
  },
  "language_info": {
   "codemirror_mode": {
    "name": "ipython",
    "version": 3
   },
   "file_extension": ".py",
   "mimetype": "text/x-python",
   "name": "python",
   "nbconvert_exporter": "python",
   "pygments_lexer": "ipython3",
   "version": "3.6.5"
  }
 },
 "nbformat": 4,
 "nbformat_minor": 4
}
