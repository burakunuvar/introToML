{
 "cells": [
  {
   "cell_type": "markdown",
   "metadata": {},
   "source": [
    "[Associate Git Repositories with Amazon SageMaker Notebook Instances](https://docs.aws.amazon.com/sagemaker/latest/dg/nbi-git-repo.html#nbi-git-resource)"
   ]
  },
  {
   "cell_type": "code",
   "execution_count": 1,
   "metadata": {},
   "outputs": [
    {
     "name": "stdin",
     "output_type": "stream",
     "text": [
      "what year were you born?  1986\n"
     ]
    },
    {
     "name": "stdout",
     "output_type": "stream",
     "text": [
      "you are 34 years old\n"
     ]
    }
   ],
   "source": [
    "# Sample Code  \n",
    "birth_year = input('what year were you born? ');\n",
    "import datetime\n",
    "x = datetime.datetime.now()\n",
    "current_year = x.year\n",
    "age = int(current_year) - int(birth_year)\n",
    "print(f'you are {age} years old')"
   ]
  },
  {
   "cell_type": "markdown",
   "metadata": {},
   "source": [
    "### Data Types\n",
    "- int float bool str\n",
    "- list tuple set dickt\n",
    "- furthermore there're classes, modules , None\n",
    "\n",
    "### Variables\n",
    "- snake_case (conventional way),  case sensitive\n",
    "- mapping is supported (also for lists, array, variables )\n",
    "```\n",
    "$ a,b,c = 1,2,3\n",
    "```\n",
    "- capital letters used to declare constants by convention\n",
    "```\n",
    "$ constant $PI = 3.14 (\n",
    "```\n",
    "\n",
    "- plus one `+=` ,  minus one `-=`\n",
    "\n",
    "**Note:** expression (produces value) vs statement (entire code )"
   ]
  },
  {
   "cell_type": "code",
   "execution_count": 2,
   "metadata": {
    "scrolled": true
   },
   "outputs": [],
   "source": [
    "#Strings \n",
    "name = 'burak'\n",
    "surname = 'unuvar'\n",
    "summary = ''' long string\n",
    " continues, continues \n",
    " still goes on .... ''' \n",
    "fullname = name + ' ' + surname \n",
    "## Escape Sequence:\n",
    "### '\\' what ever after comes will be a string ; use '\\t'for tab '\\n' for new line"
   ]
  },
  {
   "cell_type": "code",
   "execution_count": 3,
   "metadata": {},
   "outputs": [
    {
     "data": {
      "text/plain": [
       "'100'"
      ]
     },
     "execution_count": 3,
     "metadata": {},
     "output_type": "execute_result"
    }
   ],
   "source": [
    "##type conversion \n",
    "int('100') \n",
    "str(100)"
   ]
  },
  {
   "cell_type": "code",
   "execution_count": 5,
   "metadata": {},
   "outputs": [
    {
     "data": {
      "text/plain": [
       "'lkjhgfdsa'"
      ]
     },
     "execution_count": 5,
     "metadata": {},
     "output_type": "execute_result"
    }
   ],
   "source": [
    "## String Indexes \n",
    "sample='asdfghjkl'\n",
    "### strings are immutable, part of a string cannot be re-assigned\n",
    "#sample[0] = 'b' # gives error \n",
    "sample[0:3] # starts with index zero, ends before index 3 \n",
    "sample[1:2:5] # start, jump by, stop before\n",
    "sample[1:]# start with  \n",
    "sample[:5]# stop before\n",
    "sample[::1] # default behaviour\n",
    "sample[::-1] # reverse string "
   ]
  },
  {
   "cell_type": "code",
   "execution_count": 8,
   "metadata": {
    "scrolled": true
   },
   "outputs": [
    {
     "name": "stdin",
     "output_type": "stream",
     "text": [
      "enter your username:  burak\n",
      "enter your password:  burcu6993Bb!\n"
     ]
    },
    {
     "name": "stdout",
     "output_type": "stream",
     "text": [
      "crypted_password: ************\n",
      "Hi burak, your password ************ is 12 letters long \n",
      "hi again burak, once more your ************ is 12 letters long\n",
      "welcome burak, happy 34st birthday\n"
     ]
    }
   ],
   "source": [
    "# Sample Code \n",
    "username = input(\"enter your username: \")\n",
    "password = input('enter your password: ')\n",
    "\n",
    "password_length = len(password)\n",
    "crypted_password = password_length * '*'\n",
    "print(\"crypted_password: \" + crypted_password)\n",
    "\n",
    "print(f'Hi {username}, your password {crypted_password} is {password_length} letters long ')\n",
    "\n",
    "print('hi again {}, once more your {} is {} letters long'.format(username,crypted_password,password_length ))\n",
    "\n",
    "print('welcome {}, happy {}st birthday'.format('burak',34))"
   ]
  },
  {
   "cell_type": "code",
   "execution_count": 10,
   "metadata": {
    "scrolled": true
   },
   "outputs": [
    {
     "data": {
      "text/plain": [
       "5"
      ]
     },
     "execution_count": 10,
     "metadata": {},
     "output_type": "execute_result"
    }
   ],
   "source": [
    "# Some Built-in Functions\n",
    "## math functions\n",
    "round(1.5)\n",
    "abs(-20)\n",
    "bin(5)\n",
    "int ('0b101',2) "
   ]
  },
  {
   "cell_type": "code",
   "execution_count": 9,
   "metadata": {},
   "outputs": [
    {
     "data": {
      "text/plain": [
       "'unuvarunuvar'"
      ]
     },
     "execution_count": 9,
     "metadata": {},
     "output_type": "execute_result"
    }
   ],
   "source": [
    "# Some Built-in Functions\n",
    "## string methods \n",
    "full_name = 'burakunuvar'\n",
    "len(full_name)\n",
    "full_name.upper() \n",
    "full_name.lower() \n",
    "full_name.capitalize() \n",
    "full_name.find('z')\n",
    "### returns first occurrence of Substring \n",
    "\n",
    "full_name.replace('burak', 'unuvar')\n",
    "###  Prints the string by replacing first with second unuvarunuvar"
   ]
  },
  {
   "cell_type": "code",
   "execution_count": null,
   "metadata": {},
   "outputs": [],
   "source": []
  }
 ],
 "metadata": {
  "kernelspec": {
   "display_name": "conda_python3",
   "language": "python",
   "name": "conda_python3"
  },
  "language_info": {
   "codemirror_mode": {
    "name": "ipython",
    "version": 3
   },
   "file_extension": ".py",
   "mimetype": "text/x-python",
   "name": "python",
   "nbconvert_exporter": "python",
   "pygments_lexer": "ipython3",
   "version": "3.6.5"
  }
 },
 "nbformat": 4,
 "nbformat_minor": 4
}
