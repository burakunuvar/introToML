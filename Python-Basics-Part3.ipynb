{
 "cells": [
  {
   "cell_type": "markdown",
   "metadata": {},
   "source": [
    "## <u> Functions </u>\n",
    "\n",
    "- block of code saved in memory that only runs when it is called.\n",
    "\n",
    "```python\n",
    "\n",
    "    def my_function():\n",
    "        print(\"my first function\" ) \n",
    "```\n",
    "\n",
    "**parameters:** name of the input variables used to define a function  \n",
    "    - default parameters might be set while defining a function\n",
    "**arguments:** name of the actual values used to call - invoke a function \n",
    "    - They're positional , queue of inputs matter.\n",
    "    - keyword arguements, defining inputs while calling a function, is also an option, but not a good practice \n",
    "\n",
    "\n",
    "```python\n",
    "\n",
    "     def say_hello(name,age):\n",
    "        if(age>18):\n",
    "            print(f\"welcome to club {name} \")\n",
    "        else:\n",
    "            print(f\" {age}, not allowed \" ) \n",
    "```\n",
    "\n",
    "**best practice**\n",
    "\n",
    "    - A function should do one thing really well and should return something.\n",
    "    - \"return\" automatically exits function \n",
    "    \n",
    " - Nested Functions\n",
    " \n",
    " ```python\n",
    " \n",
    "    def sum(num1,num2):\n",
    "        def inner_function(n1,n2):\n",
    "            return n1+n2\n",
    "        return inner_function\n",
    "```\n",
    "\n",
    "- A method in python is somewhat similar to a function, except it is associated with object/classes. The method is implicitly used for an object for which it is called. The method is accessible to data that is contained within the class \n",
    "    \n",
    "**docstrings**\n",
    "\n",
    "```python\n",
    "    def my_function():\n",
    "        '''\n",
    "        Info : this function is for intro \n",
    "        '''\n",
    "        print(\"my first function\" ) \n",
    "    help( my_function ) \n",
    "    my_function.__doc__\n",
    "```\n",
    "- `*args` and `**kwargs` \n",
    "    - (as many arguments as user enters || as many keyword arguements as user enters ) \n",
    "    - rule of queue : params, * args, default parameters, ***kwargs \n",
    "\n",
    "\n",
    "```python\n",
    "def my_args(*args):\n",
    "    print (args)\n",
    "my_args('a','b',2,3)\n",
    "```\n",
    "\n",
    "```python\n",
    "def my_kwargs(**kwargs):\n",
    "    print (kwargs)\n",
    "my_kwargs(name=\"burak\", surname=\"unuvar\" , age=34 )\n",
    "```\n"
   ]
  },
  {
   "cell_type": "code",
   "execution_count": null,
   "metadata": {},
   "outputs": [],
   "source": [
    "def sum(num1,num2):\n",
    "     def inner_function(n1,n2):\n",
    "         return n1+n2\n",
    "     return inner_function\n",
    "total = sum(1000,2000)\n",
    "print(total(1,2))"
   ]
  },
  {
   "cell_type": "code",
   "execution_count": null,
   "metadata": {},
   "outputs": [],
   "source": [
    "# Sample Code : Functions \n",
    "\n",
    "\n",
    "age = input(\"What is your age?: \")\n",
    "\n",
    "if int(age) < 18:\n",
    "\tprint(\"Sorry, you are too young to drive this car. Powering off\")\n",
    "elif int(age) > 18:\n",
    "\tprint(\"Powering On. Enjoy the ride!\");\n",
    "elif int(age) == 18:\n",
    "\tprint(\"Congratulations on your first year of driving. Enjoy the ride!\")\n",
    "\n",
    "#1. Wrap the above code in a function called checkDriverAge(). Whenever you call this function, you will get prompted for age. \n",
    "# Notice the benefit in having checkDriverAge() instead of copying and pasting the function everytime?\n",
    "\n",
    "def checkDriverAge1():\n",
    "    age = input(\"What is your age?: \")\n",
    "    if int(age) < 18:\n",
    "        print(\"Sorry, you are too young to drive this car. Powering off\")\n",
    "    elif int(age) > 18:\n",
    "        print(\"Powering On. Enjoy the ride!\");\n",
    "    elif int(age) == 18:\n",
    "        print(\"Congratulations on your first year of driving. Enjoy the ride!\")\n",
    "#2 Instead of using the input(). Now, make the checkDriverAge() function accept an argument of age, so that if you enter:\n",
    "#checkDriverAge(92);\n",
    "#it returns \"Powering On. Enjoy the ride!\"\n",
    "#also make it so that the default age is set to 0 if no argument is given.\n",
    "\n",
    "def checkDriverAge2(age=0):\n",
    "    if int(age) < 18:\n",
    "        print(\"Sorry, you are too young to drive this car. Powering off\")\n",
    "    elif int(age) > 18:\n",
    "        print(\"Powering On. Enjoy the ride!\");\n",
    "    elif int(age) == 18:\n",
    "        print(\"Congratulations on your first year of driving. Enjoy the ride!\")\n",
    "checkDriverAge1()\n",
    "checkDriverAge2(20)"
   ]
  },
  {
   "cell_type": "code",
   "execution_count": null,
   "metadata": {},
   "outputs": [],
   "source": [
    "my_function()"
   ]
  },
  {
   "cell_type": "code",
   "execution_count": null,
   "metadata": {},
   "outputs": [],
   "source": [
    "#sample code - add description\n",
    "def my_function():\n",
    "    '''\n",
    "    Info : this function is for intro \n",
    "    '''\n",
    "    print(\"my first function\" ) \n",
    "help( my_function ) \n",
    "my_function.__doc__ #Dunder Method "
   ]
  },
  {
   "cell_type": "code",
   "execution_count": null,
   "metadata": {},
   "outputs": [],
   "source": [
    "#sample code - *args \n",
    "def my_args(*args):\n",
    "    print (args)\n",
    "my_args('a','b',2,3)"
   ]
  },
  {
   "cell_type": "code",
   "execution_count": null,
   "metadata": {},
   "outputs": [],
   "source": [
    "#sample code - **kwargs \n",
    "def my_kwargs(**kwargs):\n",
    "    print (kwargs)\n",
    "    print(kwargs.keys())\n",
    "    print(kwargs.values())\n",
    "    \n",
    "my_kwargs(name=\"burak\", surname=\"unuvar\" , age=34 )\n",
    "\n",
    "def my_sum(**kwargs):\n",
    "    total = 0 \n",
    "    print(kwargs.values())\n",
    "    for i in kwargs.values():\n",
    "        total += i\n",
    "    return total \n",
    "my_sum(num1=1,num2=2,num3=4)"
   ]
  },
  {
   "cell_type": "code",
   "execution_count": null,
   "metadata": {},
   "outputs": [],
   "source": [
    "# sample code - functions\n",
    "def highest_even(nums_list):\n",
    "    result = 0 \n",
    "    print (nums_list)\n",
    "    for i in nums_list:\n",
    "        if i > result and i%2 == 0:\n",
    "            result = i \n",
    "    return result\n",
    "highest_even([10,12,14,8,7,4,101]) "
   ]
  },
  {
   "cell_type": "markdown",
   "metadata": {},
   "source": [
    "## <u> SCOPE </u>\n",
    "\n",
    "- what variables do you have access to :\n",
    "  - functional scope : variables defined inside a function  \n",
    "  - global scope : all variables in the highest level\n",
    "  - indentation, conditionals etc don't generate a scope \n",
    "  \n",
    "  ```python\n",
    "    a = 1\n",
    "    def functional_scope():\n",
    "        a = 1001 \n",
    "        return a \n",
    "    print(a)\n",
    "    print (functional_scope())\n",
    "   ```\n",
    "- Set of Rules for Python Interpreter \n",
    "   1. start with local\n",
    "   2. proceed with parent local ( if exists )\n",
    "   3. Global Scope\n",
    "   4. built-in python functions \n",
    "\n",
    "**Global Keyword:** In order for you to modify a global variable while inside a function you will need to do define it as a global variable. However, if you only need to read the global variable you can print it without using the keyword global.  Because in python when you assign a value to a variable inside a function, that variable will be assumed to be local.\n",
    "    \n",
    "    - makes it possible to use a global variable inside a function \n",
    "   \n",
    "   ```python\n",
    "\n",
    "    name = 'burak'\n",
    "    def my_name():\n",
    "        global name\n",
    "        name+=' unuvar'\n",
    "        return name \n",
    "    print(my_name())\n",
    "    \n",
    "```\n",
    "\n",
    "    - or globals variables might be used as arguments of the function\n",
    "\n",
    "```python\n",
    "    total=0 \n",
    "    def count(total):\n",
    "        total +=1\n",
    "        return total\n",
    "    print(count(total))\n",
    "\n",
    "```\n",
    "\n",
    "**Note:** Scopes provide efficient way of resource utilization. For instance only function itself takes place in memory, and after the execution all local variables within function are destroyed by Python interpreter.\n"
   ]
  },
  {
   "cell_type": "code",
   "execution_count": 6,
   "metadata": {},
   "outputs": [
    {
     "name": "stdout",
     "output_type": "stream",
     "text": [
      "1\n",
      "7 is 7\n",
      "(1001, 3003, 5005)\n",
      "3\n",
      "5005\n"
     ]
    }
   ],
   "source": [
    "# those variables are in global scope\n",
    "a = 1\n",
    "b = 3\n",
    "c = 5\n",
    "d = 7 \n",
    "def functional_scope():\n",
    "    # those variables are created within function\n",
    "    global c \n",
    "    a = 1001 \n",
    "    b = 3003 \n",
    "    c = 5005\n",
    "    print(f'{d} is 7' )\n",
    "    return a, b ,c \n",
    "print(a)\n",
    "print (functional_scope())\n",
    "print(b)\n",
    "print(c)"
   ]
  },
  {
   "cell_type": "code",
   "execution_count": null,
   "metadata": {},
   "outputs": [],
   "source": [
    "print(sum)"
   ]
  },
  {
   "cell_type": "code",
   "execution_count": 9,
   "metadata": {},
   "outputs": [
    {
     "name": "stdout",
     "output_type": "stream",
     "text": [
      "burak unuvar\n"
     ]
    }
   ],
   "source": [
    "name = 'burak'\n",
    "def my_name():\n",
    "    global name\n",
    "    name+=' unuvar'\n",
    "    return name \n",
    "print(my_name())"
   ]
  },
  {
   "cell_type": "code",
   "execution_count": 8,
   "metadata": {},
   "outputs": [
    {
     "name": "stdout",
     "output_type": "stream",
     "text": [
      "1\n"
     ]
    }
   ],
   "source": [
    "total=0 \n",
    "def count(t):\n",
    "    t +=1\n",
    "    return t\n",
    "print(count(total))"
   ]
  },
  {
   "cell_type": "code",
   "execution_count": null,
   "metadata": {},
   "outputs": [],
   "source": []
  },
  {
   "cell_type": "code",
   "execution_count": null,
   "metadata": {},
   "outputs": [],
   "source": []
  },
  {
   "cell_type": "code",
   "execution_count": null,
   "metadata": {},
   "outputs": [],
   "source": []
  }
 ],
 "metadata": {
  "kernelspec": {
   "display_name": "conda_python3",
   "language": "python",
   "name": "conda_python3"
  },
  "language_info": {
   "codemirror_mode": {
    "name": "ipython",
    "version": 3
   },
   "file_extension": ".py",
   "mimetype": "text/x-python",
   "name": "python",
   "nbconvert_exporter": "python",
   "pygments_lexer": "ipython3",
   "version": "3.6.5"
  }
 },
 "nbformat": 4,
 "nbformat_minor": 4
}
