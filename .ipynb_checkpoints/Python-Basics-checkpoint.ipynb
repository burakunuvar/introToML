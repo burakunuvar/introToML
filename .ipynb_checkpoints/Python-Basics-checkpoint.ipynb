{
 "cells": [
  {
   "cell_type": "markdown",
   "metadata": {},
   "source": [
    "[Associate Git Repositories with Amazon SageMaker Notebook Instances](https://docs.aws.amazon.com/sagemaker/latest/dg/nbi-git-repo.html#nbi-git-resource)"
   ]
  },
  {
   "cell_type": "code",
   "execution_count": null,
   "metadata": {},
   "outputs": [],
   "source": [
    "# Sample Code  \n",
    "birth_year = input('what year were you born? ');\n",
    "import datetime\n",
    "x = datetime.datetime.now()\n",
    "current_year = x.year\n",
    "age = int(current_year) - int(birth_year)\n",
    "print(f'you are {age} years old')"
   ]
  },
  {
   "cell_type": "markdown",
   "metadata": {},
   "source": [
    "### Data Types\n",
    "- int float bool str\n",
    "- list tuple set dickt\n",
    "- furthermore there're classes, modules , None\n",
    "\n",
    "### Variables\n",
    "- snake_case (conventional way),  case sensitive\n",
    "- mapping is supported (also for lists, array, variables )\n",
    "```\n",
    "$ a,b,c = 1,2,3\n",
    "```\n",
    "- capital letters used to declare constants by convention\n",
    "```\n",
    "$ constant $PI = 3.14 (\n",
    "```\n",
    "\n",
    "- plus one `+=` ,  minus one `-=`\n",
    "\n",
    "**Note:** expression (produces value) vs statement (entire code )"
   ]
  },
  {
   "cell_type": "code",
   "execution_count": null,
   "metadata": {
    "scrolled": true
   },
   "outputs": [],
   "source": [
    "#Strings \n",
    "name = 'burak'\n",
    "surname = 'unuvar'\n",
    "summary = ''' long string\n",
    " continues, continues \n",
    " still goes on .... ''' \n",
    "fullname = name + ' ' + surname \n",
    "## Escape Sequence:\n",
    "### '\\' what ever after comes will be a string ; use '\\t'for tab '\\n' for new line"
   ]
  },
  {
   "cell_type": "code",
   "execution_count": null,
   "metadata": {},
   "outputs": [],
   "source": [
    "##type conversion \n",
    "int('100') \n",
    "str(100)"
   ]
  },
  {
   "cell_type": "code",
   "execution_count": null,
   "metadata": {},
   "outputs": [],
   "source": [
    "## String Indexes \n",
    "sample='asdfghjkl'\n",
    "### strings are immutable, part of a string cannot be re-assigned\n",
    "sample[0] = 'b' # gives error \n",
    "sample[0:3] # starts with index zero, ends before index 3 \n",
    "sample[1:2:5] # start, jump by, stop before\n",
    "sample[1:]# start with  \n",
    "sample[:5]# stop before\n",
    "sample[::1] # default behaviour\n",
    "sample[::-1] # reverse string "
   ]
  },
  {
   "cell_type": "code",
   "execution_count": null,
   "metadata": {
    "scrolled": true
   },
   "outputs": [],
   "source": [
    "# Sample Code \n",
    "username = input(\"enter your username: \")\n",
    "password = input('enter your password: ')\n",
    "\n",
    "password_length = len(password)\n",
    "crypted_password = password_length * '*'\n",
    "print(crypted_password)\n",
    "\n",
    "print(f'Hi {username}, your password {crypted_password} is {password_length} letters long ')\n",
    "\n",
    "print('hi again {}, once more your {} is {} letters long'.format(username,crypted_password,password_length ))\n",
    "\n",
    "print('welcome {}, happy {}st birthday'.format('burak',34))"
   ]
  },
  {
   "cell_type": "code",
   "execution_count": null,
   "metadata": {
    "scrolled": true
   },
   "outputs": [],
   "source": [
    "print(\"aaaa\")"
   ]
  },
  {
   "cell_type": "code",
   "execution_count": null,
   "metadata": {},
   "outputs": [],
   "source": [
    "print(\"aaa\")"
   ]
  },
  {
   "cell_type": "code",
   "execution_count": null,
   "metadata": {},
   "outputs": [],
   "source": []
  }
 ],
 "metadata": {
  "kernelspec": {
   "display_name": "conda_python3",
   "language": "python",
   "name": "conda_python3"
  },
  "language_info": {
   "codemirror_mode": {
    "name": "ipython",
    "version": 3
   },
   "file_extension": ".py",
   "mimetype": "text/x-python",
   "name": "python",
   "nbconvert_exporter": "python",
   "pygments_lexer": "ipython3",
   "version": "3.6.5"
  }
 },
 "nbformat": 4,
 "nbformat_minor": 4
}
