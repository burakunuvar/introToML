{
 "cells": [
  {
   "cell_type": "markdown",
   "metadata": {},
   "source": [
    "### <u> Running Python Scripts </u>\n"
   ]
  },
  {
   "cell_type": "code",
   "execution_count": null,
   "metadata": {},
   "outputs": [
    {
     "name": "stdout",
     "output_type": "stream",
     "text": [
      "Enter names separated by comas: a,b,c,d\n",
      "Enter assignment counts separated by comas: 1,2,3,4\n"
     ]
    }
   ],
   "source": [
    "#%run './Python3/01greeting.py'\n",
    "#%run './Python3/02input.py'\n",
    "#%run './Python3/03eval_input.py'\n",
    "%run './Python3/04assignment.py'"
   ]
  },
  {
   "cell_type": "markdown",
   "metadata": {},
   "source": [
    "### <u> Errors and Exceptions </u>\n",
    "\n",
    "-   **Syntax errors** occur when Python can’t interpret our code, since we didn’t follow the correct syntax for Python. These are errors you’re likely to get when you make a typo, or you’re first starting to learn Python.\n",
    "\n",
    "-   **Exceptions** occur when unexpected things happen during execution of a program, even if the code is syntactically correct. There are different types of built-in exceptions in Python, and you can see which exception is thrown in the error message.\n",
    "    -   ValueError\n",
    "    -   AssertionError\n",
    "    -   IndexError\n",
    "    -   KeyError\n",
    "    -   TypeError\n",
    "\n",
    "### <u> Try Statement </u>\n",
    "\n",
    "-   We can use try statements to handle exceptions. There are four clauses:\n",
    "\n",
    "    -   **try:** This is the only mandatory clause in a `try` statement. The code in this block is the first thing that Python runs in a `try` statement.\n",
    "\n",
    "    -   **except:** If Python runs into an exception while running the `try` block, it will jump to the except block that handles that exception.\n",
    "\n",
    "    -   **else:** If Python runs into no exceptions while running the `try` block, it will run the code in this block after running the try block.\n",
    "    -   **finally:** Before Python leaves this `try` statement, it will run the code in this `finally` block under any conditions, even if it's ending the program. E.g., if Python ran into an error while running code in the `except` or `else` block, this finally block will still be executed before stopping the program.\n",
    "\n",
    "   - You can access its error message :\n",
    "\n",
    " ```python\n",
    "try:\n",
    "    # some code\n",
    "except ZeroDivisionError as e:\n",
    "   # some code\n",
    "   print(\"ZeroDivisionError occurred: {}\".format(e))   \n",
    " ```\n",
    "\n",
    "   - When you don't have a specific error you're handling:\n",
    "\n",
    " ```python\n",
    " try:\n",
    "     # some code\n",
    " except Exception as e:\n",
    "    # some code\n",
    "    print(\"Exception occurred: {}\".format(e))\n",
    "```\n"
   ]
  },
  {
   "cell_type": "code",
   "execution_count": null,
   "metadata": {},
   "outputs": [],
   "source": [
    "while True :\n",
    "    try:\n",
    "        x=int(input('Enter a number: '))\n",
    "        #break\n",
    "    #We can specify which error we want to handle\n",
    "    except ValueError:\n",
    "        print('That\\'s not a valid number ')\n",
    "    #multiple blocks to execute different blocks of code depending on the exception\n",
    "    except KeyboardInterrupt:\n",
    "        print('value error ')\n",
    "    #to address more than one type of exception, we can include a parenthesized tuple\n",
    "    except(AssertionError,TypeError):\n",
    "        print('error')\n",
    "    #default 'except:' must be last\n",
    "    except:\n",
    "        print('That\\'s not a valid number')\n",
    "    else:\n",
    "        print('no exceptions - running well ')\n",
    "        break\n",
    "    finally:\n",
    "       print('\\n** input provided**\\n ')"
   ]
  },
  {
   "cell_type": "markdown",
   "metadata": {},
   "source": [
    "### <u> Reading and Writing Files </u>\n",
    "- **Reading a File**\n",
    "\n",
    "    - First open the file using the built-in function `open`. This requires a string that shows the path to the file. The open function returns a file object, which is a Python object through which Python interacts with the file itself. Assign this object to a variable `my_file`.\n",
    "    - There are optional parameters you can specify in the open function. One is the mode in which we open the file. `r` or `read only` is the default value for the mode argument.\n",
    "    - Use the `read` method to access the contents from the file object. This read method takes the text contained in a file and puts it into a string. Here, we assign the string returned from this method into the variable file_data.\n",
    "    - When finished with the file, use the `close` method to free up any system resources taken up by the file\n",
    "\n",
    "```bash \n",
    "f = open('my_path/my_file.txt', 'r')\n",
    "file_data = f.read()\n",
    "f.close()\n",
    "file_data\n",
    "```\n",
    "\n",
    "   - - If you pass the read method an integer argument, it will read up to that number of characters, output all of them, and keep the 'window' at that position ready to read on.( The default is to read all the remainder of the file from its current position - the whole file ) \n",
    "\n",
    "```bash \n",
    "with open('my_path/my_file.txt') as song:\n",
    "    print(song.read(2))\n",
    "    print(song.read(8))\n",
    "    print(song.read())\n",
    "```\n",
    "\n",
    "   \n",
    "- **Writing to a File**\n",
    "\n",
    "    - Open the file in writing ('w') mode. \n",
    "\n",
    "    - Use the `write` method to add text to the file.\n",
    "\n",
    "    - When finished with the file, use the `close` method to free up any system resources taken up by the file\n",
    "    \n",
    "    - **Reminder!:** If the file does not exist, Python will create it for you. If you open an existing file in writing mode, any content that it had contained previously will be deleted. If you're interested in adding to an existing file, without deleting its content, you should use the append ('a') mode instead of write.\n",
    "\n",
    "```bash\n",
    "f = open('my_path/my_file.txt', 'w')\n",
    "f.write(\"Hello there!\")\n",
    "f.close()\n",
    "file_data\n",
    "```\n",
    "\n",
    "   - - **Too Many Open Files** will give error\n",
    "\n",
    "```bash\n",
    "files = []\n",
    "for i in range(10000):\n",
    "    files.append(open('./Python3/readme.txt', 'r') )\n",
    "    print(i)\n",
    "```\n",
    "\n",
    "   - - **With** provides a special syntax that auto-closes a file for you once you're finished using it.\n",
    "   \n",
    "```bash\n",
    "with open('my_path/my_file.txt', 'r') as f:\n",
    "    file_data = f.read()\n",
    "```\n",
    "   \n",
    "   - - **read one line at a time** \n",
    "\n",
    "```bash\n",
    "with open('my_path/my_file.txt', 'r') as f:\n",
    "    f.readline()\n",
    "```   \n",
    "\n",
    "\n",
    " - **for line in file** \n",
    " \n",
    "```bash\n",
    "txt_lines = []\n",
    "with open('my_path/my_file.txt') as f:\n",
    "    for line in f:\n",
    "        txt_lines.append(line.strip())\n",
    "print(txt_lines)\n",
    "```\n",
    " "
   ]
  },
  {
   "cell_type": "code",
   "execution_count": null,
   "metadata": {},
   "outputs": [],
   "source": [
    "f = open('./Python3/readme.txt') \n",
    "file_data = f.read()\n",
    "f.close()\n",
    "file_data"
   ]
  },
  {
   "cell_type": "code",
   "execution_count": null,
   "metadata": {},
   "outputs": [],
   "source": [
    "f = open('./Python3/readme.txt', 'w') \n",
    "f.write('''We're the knights of the round table\n",
    "We dance whenever we're able\n",
    "''')\n",
    "f.close()"
   ]
  },
  {
   "cell_type": "code",
   "execution_count": null,
   "metadata": {},
   "outputs": [],
   "source": [
    "with open('./Python3/readme.txt') as song:\n",
    "    print(song.read(2))\n",
    "    print(song.read(8))\n",
    "    print(song.read())"
   ]
  },
  {
   "cell_type": "code",
   "execution_count": null,
   "metadata": {},
   "outputs": [],
   "source": [
    "txt_lines = []\n",
    "txt_lines2 = []\n",
    "with open('./Python3/readme.txt') as f:\n",
    "    for line in f:\n",
    "        txt_lines.append(line.strip())\n",
    "        txt_lines2.append(line)\n",
    "\n",
    "print(txt_lines)\n",
    "print(txt_lines2)\n",
    "# strip() method remove spaces at the beginning and at the end of the string:\n",
    "# split('ch') method splits a string into a list where each word is a list item: \n"
   ]
  },
  {
   "cell_type": "code",
   "execution_count": null,
   "metadata": {
    "scrolled": true
   },
   "outputs": [],
   "source": [
    "#Calling the read Method with an Integer\n",
    "def create_cast_list(filename):\n",
    "    cast_list = []\n",
    "    with open(filename) as f:\n",
    "        for line in f:\n",
    "            print(line)\n",
    "            print(line.strip())\n",
    "            print(line.split(',')[0])\n",
    "            print(line.strip().split(',')[0])\n",
    "            cast_list.append(line.split(',')[0])\n",
    "    #use with to open the file filename\n",
    "    #use the for loop syntax to process each line\n",
    "    #and add the actor name to cast_list\n",
    "    return cast_list\n",
    "cast_list = create_cast_list('./Python3/circus_cast.txt')\n",
    "for actor in cast_list:\n",
    "    print(actor)"
   ]
  },
  {
   "cell_type": "markdown",
   "metadata": {},
   "source": [
    "### <u> Importing Local Scripts </u>\n",
    "\n",
    "- If the Python script you want to import is in the same directory as your current script, you just type `import` followed by the name of the file, without the .py extension.\n",
    "- It's the standard convention for import statements to be written at the top of a Python script, each one on a separate line. This import statement creates a module object. \n",
    "- Modules are just Python files that contain definitions and statements. To access objects from an imported module, you need to use dot notation.\n",
    "\n",
    "```python\n",
    "import useful_functions as uf\n",
    "uf.add_five([1, 2, 3, 4])\n",
    "```\n",
    "\n",
    "**main block**\n",
    "\n",
    "- Whenever we run a script, Python sets a special built-in variable called `__name__` for any module. Python recognizes this module as the main program, and sets the `__name__` variable for this module to the string `\"__main__\"`. For any modules that are imported in this script, this built-in `__name__` variable is just set to the name of that module. \n",
    "\n",
    "- Therefore, the condition if `__name__ == \"__main__\" ` is just checking whether this module is the main program.\n",
    "\n",
    "- To avoid running executable statements in a script when it's imported as a module in another script, include these lines in an if ``__name__ == \"__main__\"`` block. Or alternatively, include them in a function called main() and call this in the if main block.\n",
    "\n",
    "### <u> Standard Library </u>\n",
    "\n",
    "- [Python 3 Module of the Week](https://pymotw.com/3/)\n",
    "- [The Python Standard Library](https://docs.python.org/3/library/)\n",
    "\n",
    "```python\n",
    "import math\n",
    "math.factorial(4) \n",
    "```\n",
    "\n",
    "- **Useful Modules**\n",
    "  - **csv:** very convenient for reading and writing csv files\n",
    "  - **collections:** useful extensions of the usual data types including OrderedDict, defaultdict and namedtuple\n",
    "  - **random:** generates pseudo-random numbers, shuffles sequences randomly and chooses random items\n",
    "  - **string:** more functions on strings. This module also contains useful collections of letters like string.digits (a string containing all characters which are valid digits).\n",
    "  - **re:** pattern-matching in strings via regular expressions\n",
    "  - **math:** some standard mathematical functions\n",
    "  - **os:** interacting with operating systems\n",
    "  - **os.path:** submodule of os for manipulating path names\n",
    "  - **sys:** work directly with the Python interpreter\n",
    "  - **json:** good for reading and writing json files (good for web work)\n",
    "  - **datetime** the current time and date\n",
    "  - **zip** extract all of the files from a zip file\n"
   ]
  },
  {
   "cell_type": "code",
   "execution_count": 3,
   "metadata": {},
   "outputs": [
    {
     "name": "stdout",
     "output_type": "stream",
     "text": [
      "****INSIDE OF MODULE****\n",
      "useful_functions\n",
      "****INSIDE OF MODULE****\n",
      "Scores: [88, 92, 79, 93, 85]\n",
      "Original Mean: 87.4  New Mean: 92.4\n",
      "==> main function is being executed \n",
      "__main__\n",
      "useful_functions\n",
      "==>  is called\n"
     ]
    }
   ],
   "source": [
    "import useful_functions as uf\n",
    "\n",
    "scores = [88, 92, 79, 93, 85]\n",
    "\n",
    "mean = uf.mean(scores)\n",
    "curved = uf.add_five(scores)\n",
    "\n",
    "mean_c = uf.mean(curved)\n",
    "\n",
    "print(\"Scores:\", scores)\n",
    "print(\"Original Mean:\", mean, \" New Mean:\", mean_c)\n",
    "\n",
    "print(\"==> main function is being executed \")\n",
    "print(__name__)\n",
    "print(uf.__name__)\n",
    "print(\"==>  is called\")\n"
   ]
  },
  {
   "cell_type": "markdown",
   "metadata": {},
   "source": [
    "### <u> Third-Party Libraries </u>\n",
    "\n",
    "  - pip is the standard package manager for Python, but it isn't the only one. One popular alternative is Anaconda which is designed specifically for data science.\n",
    "    - To install a package via CLI : `pip install package_name`\n",
    "  - Using a **requirements.txt File** To make it easier to install dozens of third party package\n",
    "    - `pip install -r requirements.txt`\n",
    "    - Each line of the requirements file includes the name of a package and its version number. The version number is optional, but it usually should be included. Libraries can change subtly, or dramatically, between versions, so it's important to use the same library versions that the program's author used when they wrote the program\n",
    "    - Useful Third-Party Packages\n",
    "       - **IPython** A better interactive Python interpreter\n",
    "       - **requests** Provides easy to use methods to make web requests. Useful for accessing web APIs.\n",
    "       - **Flask** a lightweight framework for making web applications and APIs.\n",
    "       - **Django** A more featureful framework for making web applications. Django is particularly good for    \n",
    "         designing complex content heavy, web applications.\n",
    "       - **Beautiful Soup** - Used to parse HTML and extract information from it. Great for web scraping.\n",
    "       - **pytest** extends Python's builtin assertions and unittest module.\n",
    "       - **PyYAML** For reading and writing YAML files.\n",
    "       - **NumPy** The fundamental package for scientific computing with Python. It contains among other things a             powerful N-dimensional array object and useful linear algebra capabilities.\n",
    "       - **pandas** A library containing high-performance, data structures and data analysis tools. In particular,           pandas provides dataframes!\n",
    "       - **matplotlib** a 2D plotting library which produces publication quality figures in a variety of hardcopy \n",
    "         formats and interactive environments.\n",
    "       - **ggplot** Another 2D plotting library, based on R's ggplot2 library.\n",
    "       - **Pillow** The Python Imaging Library adds image processing capabilities to your Python interpreter.\n",
    "       - **pyglet** A cross-platform application framework intended for game development.\n",
    "       - **Pygame** A set of Python modules designed for writing games.\n",
    "       - **pytz** World Timezone Definitions for Python\n",
    "    \n",
    "    "
   ]
  },
  {
   "cell_type": "markdown",
   "metadata": {},
   "source": [
    "### <u> Experimenting With An Interpreter </u>\n",
    " - [iPython](https://ipython.org/ipython-doc/3/interactive/tutorial.html)\n",
    "    - tab completion\n",
    "    - `?` for details about an object\n",
    "    - ! to execute system shell commands\n",
    "    - syntax highlighting!\n",
    "\n",
    "### <u>  Hierarchy of Online Resources</u>\n",
    "\n",
    "While there are many online resources about programming, not all of the them are created equal. This list of resources is in approximate order of reliability.\n",
    "\n",
    "- [The Python Tutorial](https://docs.python.org/3/tutorial/) - This section of the official documentation surveys Python's syntax and standard library. It uses examples, and is written using less technical language than the main documentation. Make sure you're reading the Python 3 version of the docs!\n",
    "- [The Python Language and Library References](https://docs.python.org/3/index.html) - The Language Reference and Library Reference are more technical than the tutorial, but they are the definitive sources of truth. As you become increasingly acquainted with Python you should use these resources more and more.\n",
    "- Third-Party Library Documentation - Third-party libraries publish their documentation on their own websites, and often times at https://readthedocs.org/. You can judge the quality of a third-party library by the quality of its documentation. If the developers haven't found time to write good docs, they probably haven't found the time to polish their library either.\n",
    "- The websites and blogs of prominent experts - The previous resources are primary sources, meaning that they are documentation from the same people who wrote the code being documented. Primary sources are the most reliable. Secondary sources are also extremely valuable. The difficulty with secondary sources is determining the credibility of the source. The websites of authors like Doug Hellmann and developers like Eli Bendersky are excellent. The blog of an unknown author might be excellent, or it might be rubbish.\n",
    "- StackOverflow - This question and answer site has a good amount of traffic, so it's likely that someone has asked (and someone has answered) a related question before! However, answers are provided by volunteers and vary in quality. Always understand solutions before putting them into your program. One line answers without any explanation are dubious. This is a good place to find out more about your question or discover alternative search terms.\n",
    "- Bug Trackers - Sometimes you'll encounter a problem so rare, or so new, that no one has addressed it on StackOverflow. You might find a reference to your error in a bug report on GitHub for instance. These bug reports can be helpful, but you'll probably have to do some original engineering work to solve the problem.\n",
    "- Random Web Forums - Sometimes your search yields references to forums that haven't been active since 2004, or some similarly ancient time. If these are the only resources that address your problem, you should rethink how you're approaching your solution\n"
   ]
  },
  {
   "cell_type": "markdown",
   "metadata": {},
   "source": [
    "\n"
   ]
  },
  {
   "cell_type": "code",
   "execution_count": 13,
   "metadata": {},
   "outputs": [
    {
     "name": "stdout",
     "output_type": "stream",
     "text": [
      "Enter your First [space] Last name only:burak unuvar\n",
      "b\n"
     ]
    }
   ],
   "source": [
    "first_letter = input(\"Enter your First [space] Last name only:\")[0]\n",
    "print(first_letter)"
   ]
  },
  {
   "cell_type": "markdown",
   "metadata": {},
   "source": []
  }
 ],
 "metadata": {
  "kernelspec": {
   "display_name": "conda_python3",
   "language": "python",
   "name": "conda_python3"
  },
  "language_info": {
   "codemirror_mode": {
    "name": "ipython",
    "version": 3
   },
   "file_extension": ".py",
   "mimetype": "text/x-python",
   "name": "python",
   "nbconvert_exporter": "python",
   "pygments_lexer": "ipython3",
   "version": "3.6.5"
  }
 },
 "nbformat": 4,
 "nbformat_minor": 4
}
