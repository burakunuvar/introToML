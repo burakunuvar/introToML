{
 "cells": [
  {
   "cell_type": "markdown",
   "metadata": {},
   "source": [
    "## <u>Object Oriented Programming </u>\n",
    "\n",
    "- Everything in \"Python\" is an object\n",
    "   - class keyword is used to build anything.\n",
    "   - objects has \"methods\" and \"attributes\" \n",
    "   - custom class type can be build with custom \"methods\" and \"attributes\" \n",
    "- Object Oriented Programming : \n",
    "   - Paradigm to maintain, extend and write code in an easier way.\n",
    "   - different people can work on different parts of giant code, and then mix&match different pieces.\n",
    "   - from procedures of \"assembly language\" ( low level, close to machine code ) to classes of fundamental paradigms ( OOP )\n",
    "   - Classes are \"bluetprints\" that're used to instantiate objects (instances) \n",
    "  "
   ]
  },
  {
   "cell_type": "code",
   "execution_count": 3,
   "metadata": {},
   "outputs": [
    {
     "name": "stdout",
     "output_type": "stream",
     "text": [
      "<class 'bool'>\n",
      "<class 'NoneType'>\n",
      "<class 'int'>\n",
      "<class 'str'>\n",
      "<class 'list'>\n",
      "<class 'tuple'>\n",
      "<class 'dict'>\n",
      "<class 'type'>\n",
      "<class '__main__.MainObject'>\n"
     ]
    }
   ],
   "source": [
    "# Everything in \"Python\" is an object\n",
    "print(type(True))\n",
    "print(type(None))\n",
    "print(type(int(5)))\n",
    "print(type(str(5))) \n",
    "print(type([]))\n",
    "print(type(()))\n",
    "print(type({}))\n",
    "# Custom class with custom \"methods\" and \"attributes\"\n",
    "class MainObject: \n",
    "    pass\n",
    "obj1 = MainObject()\n",
    "obj2 = MainObject()\n",
    "print(type(MainObject))\n",
    "print(type(obj1))"
   ]
  },
  {
   "cell_type": "markdown",
   "metadata": {},
   "source": [
    "#### <u>Class Attributes : Static vs Dynamic </u>\n",
    "\n",
    "  - \"Class Object Attributes\"\n",
    "      - \"Class Object Attributes\" are defined within Class itself - same level with methods\n",
    "      - It is static and it doesn't change across different instances \n",
    "      - accessed via `ClassName.classObjectAttribute` anywhere inside of class\n",
    "      \n",
    "  - \"Object Attributes\"\n",
    "      - Dynamic attributes are defined within __init__ \n",
    "      - It is. dynamic and specific to each Class Object (instance ) generated ( instantiated ) \n",
    "      - accessed via `self.classObjectAttribute` anywhere inside of class\n",
    "\n",
    "#### <u>Class Method types : Default vs Class </u>\n",
    "\n",
    "  - \"Class Object Methods\"\n",
    "     - defined within Class itself, by using `@classmethod` \n",
    "     - can be used without necessity of instantiating on object. \n",
    "     - '@staticmethod' is used to prevent access to self ( class itself ), when class state is not important  \n",
    "     \n",
    "  - \"Class Methods\"\n",
    "     - All other methods are defined within Class itself, without @classmethod` \n",
    "     - Object needs to be instantiated for an access to those methods.\n",
    "  \n",
    " \n",
    "  - Any method can access \"Class Object Attributes\"\n",
    "  - Any method will require 'self' parameter to be able to access class attributes. \n",
    "  \n",
    "####  <u> __init__ instantiate function </u>\n",
    "\n",
    "   - gets called every time the object is instantiated \n",
    "   - also known as constructor\n"
   ]
  },
  {
   "cell_type": "markdown",
   "metadata": {},
   "source": [
    "### <u>Sample Code - Introduction to Classes </u>"
   ]
  },
  {
   "cell_type": "code",
   "execution_count": 4,
   "metadata": {},
   "outputs": [],
   "source": [
    "# Sample Code - Introduction to Classes \n",
    "class PlayerCharacter:\n",
    "    # Class Object Attribute ( static )\n",
    "    membership = True\n",
    "    # Class Object Attribute doesn't change across different instances \n",
    "    \n",
    "    ##Constructor Function\n",
    "    def __init__(self,name,surname,age):\n",
    "        # Class Attributes ( dynamic )\n",
    "        self.name = name #attribute1\n",
    "        self.surname = surname  #attribute2\n",
    "        self.age = age #attribute3\n",
    "        # Object Attributes are dynamic and specific to each Class Object\n",
    "        \n",
    "    #Class Object Method    \n",
    "    def intro(self):\n",
    "        print(\"\\n=== a new object has been instantiated === \\n\")\n",
    "        print (f\"\\t {self} \")\n",
    "        print(f\"\\t Hi I am {self.name} {self.surname} and I'm {self.age} years old\")\n",
    "        print(f\"\\t membership : {PlayerCharacter.membership}\" )\n",
    "        # (PlayerCharacter.name) would give error , because name is not a Class Object Attribute\n",
    "        # it's not actually a property or an attribite of Player Character, defined in constructor function => init\n",
    "        # But, (PlayerCharacter.membership) works "
   ]
  },
  {
   "cell_type": "code",
   "execution_count": null,
   "metadata": {},
   "outputs": [],
   "source": [
    "# Run Code Part 1\n",
    "print(\"*** Initiating Instances - listing objects ***\\n\")\n",
    "player1 = PlayerCharacter(\"burak\",\"unuvar\",34) \n",
    "print(f\"\\t {player1} \")\n",
    "player2 = PlayerCharacter(\"pinar\",\"isik\",35) \n",
    "print(f\"\\t {player2} \")\n",
    "print(\"*** created from same blueprint but they love in different places in memory ***\\n\")\n",
    "print(\"\\n*** Print Attributes - object details *** \\n\")\n",
    "print(f\"\\t {player1.name} {player1.surname} is {player1.age} years old\")\n",
    "print(f\"\\t {player2.name} {player2.surname} is {player2.age} years old\")"
   ]
  },
  {
   "cell_type": "code",
   "execution_count": 3,
   "metadata": {
    "scrolled": true
   },
   "outputs": [
    {
     "name": "stdout",
     "output_type": "stream",
     "text": [
      "\n",
      "*** Calling Methods - functions within object ***\n",
      "\n",
      "=== a new object has been instantiated === \n",
      "\n",
      "\t <__main__.PlayerCharacter object at 0x7f8e58737f28> \n",
      "\t Hi I am burak unuvar and I'm 34 years old\n",
      "\t membership : True\n",
      "\n",
      "=== a new object has been instantiated === \n",
      "\n",
      "\t <__main__.PlayerCharacter object at 0x7f8e58737f98> \n",
      "\t Hi I am pinar isik and I'm 35 years old\n",
      "\t membership : True\n"
     ]
    }
   ],
   "source": [
    "# Run Code Part 2\n",
    "print(\"\\n*** Calling Methods - functions within object ***\")\n",
    "player1.intro()\n",
    "player2.intro()\n",
    "#help(player1) #gives the blue print"
   ]
  },
  {
   "cell_type": "markdown",
   "metadata": {},
   "source": [
    "**Sample Code** \n",
    "\n",
    "```python\n",
    "class PlayerCharacter:\n",
    "    # Class Object Attribute ( static )\n",
    "    membership = True\n",
    "    # Class Object Attribute doesn't change across different instances \n",
    "    def __init__(self,name,surname,age):\n",
    "        # Class Object Attributes ( dynamic )\n",
    "        self.name = name #attribute1\n",
    "        self.surname = surname  #attribute2\n",
    "        self.age = age #attribute3\n",
    "        # Object Attributes are dynamic and specific to each Class Object\n",
    "    def intro(self):\n",
    "        print(\"\\n=== a new object has been instantiated === \\n\")\n",
    "        print (f\"\\t {self} \")\n",
    "        print(f\"\\t Hi I am {self.name} {self.surname} and I'm {self.age} years old\")\n",
    "        print(f\"\\t membership : {PlayerCharacter.membership}\" )\n",
    "        # (PlayerCharacter.name) would give error , because name is not a Class Object Attribute\n",
    "        # But, (PlayerCharacter.membership) works \n",
    "```"
   ]
  },
  {
   "cell_type": "markdown",
   "metadata": {},
   "source": [
    "### <u>Sample Code Cont. - more details on 'self' </u>"
   ]
  },
  {
   "cell_type": "code",
   "execution_count": 19,
   "metadata": {},
   "outputs": [],
   "source": [
    "# Sample Code - more details on 'self'\n",
    "class PlayerCharacter2:\n",
    "    membership = True\n",
    "    def __init__(self,name=\"anonymous\",surname=\"null\",age=18):\n",
    "        # self refers to object we create ( by main class )\n",
    "        # whatever is to the left of the dot\n",
    "        \n",
    "        # conditionals used to instantiate and object : \n",
    "        if(PlayerCharacter2.membership): #or if(self.membership)\n",
    "            self.name = name\n",
    "            self.surname = surname \n",
    "            self.age = age \n",
    "        # if criteria is not met, object will not be instantiated with those attributes \n",
    "        # so the function below will not work        \n",
    "    def self_vs_mainClass(self):\n",
    "        print(\"\\t ***** SELF OBJECT ******* \\n\")\n",
    "        print(self)\n",
    "        print(\"\\n\")\n",
    "        print(\"\\t ***** MAIN CLASS ******* \\n\")\n",
    "        print(PlayerCharacter2)\n",
    "        print(\"\\n\")\n",
    "        \n",
    "    def intro_with_class(PC2):\n",
    "        print(\"\\n=== a new object has been instantiated === \\n\")\n",
    "        print (f\"\\t {PC2} \")\n",
    "        print(f\"\\t Hi I am {PC2.name} {PC2.surname} and I'm {PC2.age} years old\")\n",
    "        print(f\"\\t membership:{PC2.membership}\" )\n",
    "    \n"
   ]
  },
  {
   "cell_type": "code",
   "execution_count": 20,
   "metadata": {},
   "outputs": [
    {
     "name": "stdout",
     "output_type": "stream",
     "text": [
      "*** Initiating Instances - listing objects ***\n",
      "\n",
      "\t <__main__.PlayerCharacter2 object at 0x7f8e586cb630> \n",
      "\t <__main__.PlayerCharacter2 object at 0x7f8e586cb668> \n",
      "\n",
      "*** Print Attributes - object details *** \n",
      "\n",
      "\t burak unuvar is 34 years old\n",
      "\t pinar isik is 35 years old\n"
     ]
    }
   ],
   "source": [
    "# Run Code Part 2\n",
    "print(\"*** Initiating Instances - listing objects ***\\n\")\n",
    "player1 = PlayerCharacter2(\"burak\",\"unuvar\",34) \n",
    "print(f\"\\t {player1} \")\n",
    "player2 = PlayerCharacter2(\"pinar\",\"isik\",35) \n",
    "print(f\"\\t {player2} \")\n",
    "print(\"\\n*** Print Attributes - object details *** \\n\")\n",
    "print(f\"\\t {player1.name} {player1.surname} is {player1.age} years old\")\n",
    "print(f\"\\t {player2.name} {player2.surname} is {player2.age} years old\")"
   ]
  },
  {
   "cell_type": "code",
   "execution_count": 21,
   "metadata": {},
   "outputs": [
    {
     "name": "stdout",
     "output_type": "stream",
     "text": [
      "\n",
      "*** Calling Methods - functions within object ***\n",
      "\n",
      "=== a new object has been instantiated === \n",
      "\n",
      "\t <__main__.PlayerCharacter2 object at 0x7f8e586cb630> \n",
      "\t Hi I am burak unuvar and I'm 34 years old\n",
      "\t membership:True\n",
      "\n",
      "=== a new object has been instantiated === \n",
      "\n",
      "\t <__main__.PlayerCharacter2 object at 0x7f8e586cb668> \n",
      "\t Hi I am pinar isik and I'm 35 years old\n",
      "\t membership:True\n"
     ]
    }
   ],
   "source": [
    "# Run Code Part 2\n",
    "print(\"\\n*** Calling Methods - functions within object ***\")\n",
    "player1.intro_with_class()\n",
    "player2.intro_with_class()\n",
    "#help(player1) #gives the blue print"
   ]
  },
  {
   "cell_type": "code",
   "execution_count": 22,
   "metadata": {},
   "outputs": [
    {
     "name": "stdout",
     "output_type": "stream",
     "text": [
      "\t ***** SELF OBJECT ******* \n",
      "\n",
      "<__main__.PlayerCharacter2 object at 0x7f8e586cb630>\n",
      "\n",
      "\n",
      "\t ***** MAIN CLASS ******* \n",
      "\n",
      "<class '__main__.PlayerCharacter2'>\n",
      "\n",
      "\n"
     ]
    }
   ],
   "source": [
    "player1.self_vs_mainClass()"
   ]
  },
  {
   "cell_type": "markdown",
   "metadata": {},
   "source": [
    "### <u>Sample Code Cont.  - ClassMethod  </u>"
   ]
  },
  {
   "cell_type": "code",
   "execution_count": 20,
   "metadata": {},
   "outputs": [],
   "source": [
    "# Sample Code - Class \n",
    "class PlayerCharacter3:\n",
    "    membership = True\n",
    "    def __init__(self,name=\"anonymous\",surname=\"null\",age=18):\n",
    "        if(PlayerCharacter3.membership): \n",
    "            self.name = name #attribute1\n",
    "            self.surname = surname  #attribute2\n",
    "            self.age = age #attribute3\n",
    "    def say_sth(self,phrase):\n",
    "        # you can't access object attributes, without instantiating on object\n",
    "        # this will give error if membership = False\n",
    "        print(f\" {phrase}\")\n",
    "        print(f\"{self.name}\") \n",
    "\n",
    "    def multiply_numbers(self,num1,num2):\n",
    "        # you can't use this  without instantiating on object\n",
    "        return num1 * num2   \n",
    "    @classmethod\n",
    "    # used to create a class method similar to a class attribute \n",
    "    # you can use this type of class without instantiating on object\n",
    "    def add_numbers(cls,num1,num2):\n",
    "        return num1 + num2 \n",
    "    @classmethod \n",
    "    # used to create a class method similar to a class attribute \n",
    "    # you can use class without instantiating on object\n",
    "    def instantiate_object(cls,name,surname,age):\n",
    "        return cls(name,surname,age)\n",
    "    @staticmethod\n",
    "    # samething with classmethod, but with no access to self or class \n",
    "    # used when class state is not important\n",
    "    def add_numbers_static (cls,num1,num2):\n",
    "        return num1 + num2   \n"
   ]
  },
  {
   "cell_type": "code",
   "execution_count": 23,
   "metadata": {},
   "outputs": [
    {
     "name": "stdout",
     "output_type": "stream",
     "text": [
      " Below line will work only when the object is instantiated :  \n",
      "burak\n",
      " Because you can't access object attributes, without instantiating on object\n"
     ]
    }
   ],
   "source": [
    "# Run Code \n",
    "player1 = PlayerCharacter3(\"burak\",\"unuvar\",34) \n",
    "player1.say_sth(\"Below line will work only when the object is instantiated :  \")\n",
    "print(\" Because you can't access object attributes, without instantiating on object\")"
   ]
  },
  {
   "cell_type": "code",
   "execution_count": 24,
   "metadata": {},
   "outputs": [
    {
     "name": "stdout",
     "output_type": "stream",
     "text": [
      "20\n"
     ]
    },
    {
     "ename": "NameError",
     "evalue": "name 'PlayerCharacter' is not defined",
     "output_type": "error",
     "traceback": [
      "\u001b[0;31m---------------------------------------------------------------------------\u001b[0m",
      "\u001b[0;31mNameError\u001b[0m                                 Traceback (most recent call last)",
      "\u001b[0;32m<ipython-input-24-01d05429b5cb>\u001b[0m in \u001b[0;36m<module>\u001b[0;34m()\u001b[0m\n\u001b[1;32m      2\u001b[0m \u001b[0;31m# you can't use method without instantiating on object\u001b[0m\u001b[0;34m\u001b[0m\u001b[0;34m\u001b[0m\u001b[0m\n\u001b[1;32m      3\u001b[0m \u001b[0mprint\u001b[0m \u001b[0;34m(\u001b[0m \u001b[0mplayer1\u001b[0m\u001b[0;34m.\u001b[0m\u001b[0mmultiply_numbers\u001b[0m\u001b[0;34m(\u001b[0m\u001b[0;36m4\u001b[0m\u001b[0;34m,\u001b[0m\u001b[0;36m5\u001b[0m\u001b[0;34m)\u001b[0m \u001b[0;34m)\u001b[0m\u001b[0;34m\u001b[0m\u001b[0m\n\u001b[0;32m----> 4\u001b[0;31m \u001b[0mprint\u001b[0m \u001b[0;34m(\u001b[0m\u001b[0mPlayerCharacter\u001b[0m\u001b[0;34m.\u001b[0m\u001b[0mmultiply_numbers\u001b[0m\u001b[0;34m(\u001b[0m\u001b[0;36m4\u001b[0m\u001b[0;34m,\u001b[0m\u001b[0;36m5\u001b[0m\u001b[0;34m)\u001b[0m\u001b[0;34m)\u001b[0m \u001b[0;31m## gives error\u001b[0m\u001b[0;34m\u001b[0m\u001b[0m\n\u001b[0m",
      "\u001b[0;31mNameError\u001b[0m: name 'PlayerCharacter' is not defined"
     ]
    }
   ],
   "source": [
    "# Run Code Part 2\n",
    "# you can't use method without instantiating on object\n",
    "print ( player1.multiply_numbers(4,5) )\n",
    "print (PlayerCharacter.multiply_numbers(4,5)) ## gives error "
   ]
  },
  {
   "cell_type": "code",
   "execution_count": 26,
   "metadata": {},
   "outputs": [
    {
     "name": "stdout",
     "output_type": "stream",
     "text": [
      "9\n",
      "9\n"
     ]
    }
   ],
   "source": [
    "# Run Code Part 2 \n",
    "# you can use class without instantiating on object\n",
    "print( player1.add_numbers(4,5) )\n",
    "print ( PlayerCharacter3.add_numbers(4,5) ) "
   ]
  },
  {
   "cell_type": "code",
   "execution_count": 28,
   "metadata": {},
   "outputs": [
    {
     "data": {
      "text/plain": [
       "30"
      ]
     },
     "execution_count": 28,
     "metadata": {},
     "output_type": "execute_result"
    }
   ],
   "source": [
    "# Run Code Part 3 \n",
    "# you can even use class to instantiate an object \n",
    "PlayerCharacter3.instantiate_object(\"pinar\",\"isik\",30).name \n",
    "PlayerCharacter3.instantiate_object(\"pinar\",\"isik\",30).surname\n",
    "PlayerCharacter3.instantiate_object(\"pinar\",\"isik\",30).age"
   ]
  },
  {
   "cell_type": "markdown",
   "metadata": {},
   "source": [
    "### <u>Quick Review on Class - Attribute - Method </u>\n",
    "\n",
    "```python\n",
    "class NameOfClass:\n",
    "    # Class Object Attribute\n",
    "    class_attribute = 'value' \n",
    "    def __init__ (self, param1, param2):\n",
    "        # Object Attributes\n",
    "        self.param1 = param1\n",
    "        self.param2 = param2\n",
    "    #Object Methods\n",
    "    def method(self,param1,param2): \n",
    "        # do sth \n",
    "    # Class Object Methods\n",
    "    @classmethod \n",
    "    def cls_method(cls,param1,param2):\n",
    "        # do sth\n",
    "    # Class Object Methods - no access to self. \n",
    "    @staticmethod \n",
    "    def static_method(param1,param2):\n",
    "        # do sth\n",
    "```"
   ]
  },
  {
   "cell_type": "code",
   "execution_count": 70,
   "metadata": {},
   "outputs": [],
   "source": [
    "# Sample Code\n",
    "class NewSubscriber:\n",
    "    def __init__ (self, name, age):\n",
    "        self.name = name\n",
    "        self.age = age \n",
    "    def say_sth(self):\n",
    "        return \"woohooo\"\n",
    "    def ping (self):\n",
    "        return self\n",
    "subscriber1 = NewSubscriber (\"burak\",35)\n",
    "print(subscriber1.name)\n",
    "print(subscriber1.age)\n",
    "print(subscriber1.say_sth())\n",
    "print(subscriber1.ping())\n",
    "print(subscriber1.ping().name)\n",
    "print(subscriber1.ping().age)\n",
    "print(subscriber1.ping().say_sth())\n",
    "print(subscriber1.ping().ping())"
   ]
  },
  {
   "cell_type": "code",
   "execution_count": null,
   "metadata": {},
   "outputs": [],
   "source": [
    "# exercise\n",
    "class Cat:\n",
    "    species = 'mammal'\n",
    "    def __init__(self, name, age):\n",
    "        self.name = name\n",
    "        self.age = age\n",
    "\n",
    "# Instantiate the Cat object with 3 cats\n",
    "peanut = Cat(\"Peanut\", 3)\n",
    "garfield = Cat(\"Garfield\", 5)\n",
    "snickers = Cat(\"Snickers\", 1)\n",
    "\n",
    "# Find the oldest cat\n",
    "def get_oldest_cat(*args):\n",
    "    return max(args)\n",
    "\n",
    "# Output\n",
    "# print(f\"The oldest cat is {get_oldest_cat(peanut.age, garfield.age, snickers.age)} years old.\")"
   ]
  },
  {
   "cell_type": "code",
   "execution_count": null,
   "metadata": {},
   "outputs": [],
   "source": []
  },
  {
   "cell_type": "markdown",
   "metadata": {},
   "source": []
  },
  {
   "cell_type": "code",
   "execution_count": null,
   "metadata": {},
   "outputs": [],
   "source": []
  },
  {
   "cell_type": "code",
   "execution_count": null,
   "metadata": {},
   "outputs": [],
   "source": []
  },
  {
   "cell_type": "code",
   "execution_count": 70,
   "metadata": {},
   "outputs": [],
   "source": []
  },
  {
   "cell_type": "code",
   "execution_count": null,
   "metadata": {},
   "outputs": [],
   "source": []
  }
 ],
 "metadata": {
  "kernelspec": {
   "display_name": "conda_python3",
   "language": "python",
   "name": "conda_python3"
  },
  "language_info": {
   "codemirror_mode": {
    "name": "ipython",
    "version": 3
   },
   "file_extension": ".py",
   "mimetype": "text/x-python",
   "name": "python",
   "nbconvert_exporter": "python",
   "pygments_lexer": "ipython3",
   "version": "3.6.5"
  }
 },
 "nbformat": 4,
 "nbformat_minor": 4
}
