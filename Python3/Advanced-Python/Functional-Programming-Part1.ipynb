{
 "cells": [
  {
   "cell_type": "markdown",
   "metadata": {},
   "source": [
    "## <u>Functional Programming </u>\n",
    "\n",
    "- separation of concerns \n",
    "- data vs functions, separation between data of a program and behavior of a program\n",
    "- split to code into discrete chunks to make it well organised \n",
    "- each chunk focusing on one thing \n",
    "\n",
    "- **similarities to OOP **\n",
    "   -  Goals are same ( clean, understandable, easy to extend, memory efficient and DRY code ) \n",
    "   \n",
    "- **difference to OOP :** \n",
    "   -  instead of combining methods and attributes, data and functions are separated.\n",
    "   \n",
    "   -  instead of classes and objects, well defined data structures are used like lists and dictionaries\n",
    "   \n",
    "   -  For instance; attributes will be dictionaries whereas methods will be discrete functions\n",
    "   \n",
    "### <u> Pure Functions </u>\n",
    "\n",
    "- results in the same output given the same input \n",
    "- no side effects, interaction with outside world ( things that effect outside world , like printing our touching a variable outside ) \n",
    "- less buggy , easy to test and understand\n",
    "- none of different parts touch each other ( it's guideline rather than a rule, impossible to have everywhere but prefer whenever possible )\n",
    "\n",
    "```python\n",
    "def multiply_byTwo(my_list):\n",
    "    new_list=[]\n",
    "    for item in my_list:\n",
    "        new_list.append(item*2)\n",
    "    return new_list\n",
    "\n",
    "multiplied_list = multiply_byTwo([1,2,3])\n",
    "```\n",
    "\n",
    "```python\n",
    "def only_odd(my_list): \n",
    "    new_list=[]\n",
    "    for item in my_list:\n",
    "        if item%2==1:\n",
    "            new_list.append(item)      \n",
    "    return new_list\n",
    "\n",
    "odd_list = only_odd([1,2,3])\n",
    "\n",
    "```\n",
    "\n",
    "```python\n",
    "def accumulator(my_list,start):\n",
    "    new_list=[]\n",
    "    result=start\n",
    "    for item in my_list:\n",
    "        result+=item\n",
    "    new_list.append(result)\n",
    "    return new_list\n",
    "\n",
    "accumulator([1,2,3,4,5],0)\n",
    "\n",
    "```\n"
   ]
  },
  {
   "cell_type": "code",
   "execution_count": null,
   "metadata": {},
   "outputs": [],
   "source": [
    "def multiply_byTwo(my_list):\n",
    "    new_list=[]\n",
    "    for item in my_list:\n",
    "        new_list.append(item*2)\n",
    "    return new_list\n",
    "new_list = multiply_byTwo([1,2,3])\n",
    "new_list"
   ]
  },
  {
   "cell_type": "code",
   "execution_count": null,
   "metadata": {},
   "outputs": [],
   "source": [
    "def only_odd(my_list): \n",
    "    new_list=[]\n",
    "    for item in my_list:\n",
    "        if item%2==1:\n",
    "            new_list.append(item)      \n",
    "    return new_list\n",
    "\n",
    "odd_list = only_odd([1,2,3])\n",
    "odd_list"
   ]
  },
  {
   "cell_type": "code",
   "execution_count": null,
   "metadata": {},
   "outputs": [],
   "source": [
    "def accumulator(my_list,start):\n",
    "    result=start\n",
    "    for item in my_list:\n",
    "        result+=item\n",
    "    return result\n",
    "\n",
    "accumulator([1,2,3,4,5],0)"
   ]
  },
  {
   "cell_type": "markdown",
   "metadata": {},
   "source": [
    "### <u> MAP FILTER ZIP REDUCE </u>\n",
    "\n",
    "#### MAP() \n",
    "  - takes a function and an iterable as inputs\n",
    "  - returns an iterator that computes the function using the values in iterable\n",
    "  - so data is separated from the function \n",
    "  - to view , turn it into a list or another iterable\n",
    "\n",
    "```python\n",
    "def multiply_byTwo(item):\n",
    "    return item*2 \n",
    "\n",
    "new_list = map(multiply_byTwo, [1,2,3]) \n",
    "new_list \n",
    "```\n",
    "\n",
    "\n",
    "#### FILTER() \n",
    "  - takes a function and an iterable as inputs\n",
    "  - runs the function on each in iterable \n",
    "  - returns an iterator, with only the items that return TRUE\n",
    "\n",
    "```python\n",
    "def only_odd(item):\n",
    "    return item%2==1 \n",
    "odd_list = filter(only_odd,[1,2,3])\n",
    "```\n",
    "\n",
    "####  ZIP() \n",
    "  - takes any number of iterables , grabs the first item from each and zip them together as tuples\n",
    "\n",
    "```python\n",
    "list(zip([1,2,3],['a','b','c'],[100,200,300]))\n",
    "```\n",
    "\n",
    "####  REDUCE()\n",
    "  - is not a built in function should be imported from its module `from functools import reduce` \n",
    "  - takes a function(accumulator) and sequence with an initial as inputs\n",
    "  - underneath the hood , map and filter uses reduce\n",
    " \n",
    "```python\n",
    "def accumulator(start,item):\n",
    "    return start+item\n",
    "\n",
    "reduce(accumulator,[1,2,3,4,5],0)\n",
    "```\n"
   ]
  },
  {
   "cell_type": "code",
   "execution_count": null,
   "metadata": {},
   "outputs": [],
   "source": [
    "# Map\n",
    "def multiply_byTwo(item):\n",
    "    return item*2 \n",
    "new_list = map(multiply_byTwo, [1,2,3]) \n",
    "list(new_list)"
   ]
  },
  {
   "cell_type": "code",
   "execution_count": null,
   "metadata": {},
   "outputs": [],
   "source": [
    "# Filter\n",
    "def only_odd(item):\n",
    "    return item%2==1 \n",
    "odd_list = filter(only_odd,[1,2,3])\n",
    "list(odd_list)"
   ]
  },
  {
   "cell_type": "code",
   "execution_count": null,
   "metadata": {},
   "outputs": [],
   "source": [
    "# Filter the scores that pass over 50%\n",
    "def above_fifty(num):\n",
    "    return (num>50) == True\n",
    "scores = [73, 20, 65, 19, 76, 100, 88]\n",
    "\n",
    "list(filter(above_fifty,scores))\n",
    "\n"
   ]
  },
  {
   "cell_type": "code",
   "execution_count": null,
   "metadata": {},
   "outputs": [],
   "source": [
    "# Zip\n",
    "list(zip([1,2,3],['a','b','c'],[100,200,300]))"
   ]
  },
  {
   "cell_type": "code",
   "execution_count": 24,
   "metadata": {},
   "outputs": [
    {
     "data": {
      "text/plain": [
       "75"
      ]
     },
     "execution_count": 24,
     "metadata": {},
     "output_type": "execute_result"
    }
   ],
   "source": [
    "# Reduce \n",
    "from functools import reduce\n",
    "def accumulator(initial,item):\n",
    "    return initial+item\n",
    "\n",
    "reduce(accumulator,[1,2,3,4,5]+[10,20,30],0)"
   ]
  },
  {
   "cell_type": "markdown",
   "metadata": {},
   "source": [
    "### <u> Lambda Expressions </u>\n",
    "  \n",
    "  - One-time anonymous functions\n",
    "  - Not stored anywhere on machine \n",
    "  - `lambda param: action(param)`\n",
    "  \n",
    "```python\n",
    "\n",
    "my_list=[1,2,3]\n",
    "lambda x : x*x \n",
    "map(lambda x=x*x , my_list)\n",
    "\n",
    "```"
   ]
  },
  {
   "cell_type": "code",
   "execution_count": 50,
   "metadata": {},
   "outputs": [
    {
     "data": {
      "text/plain": [
       "[2, 4]"
      ]
     },
     "execution_count": 50,
     "metadata": {},
     "output_type": "execute_result"
    }
   ],
   "source": [
    "my_list=[1,2,3,4,5]\n",
    "\n",
    "list(map(lambda x:x*2, my_list))\n",
    "list(map(lambda x:x*x, my_list))\n",
    "list(map(lambda x: (x%2)!=1, my_list))\n",
    "list(filter(lambda x: (x%2)!=1, my_list))"
   ]
  },
  {
   "cell_type": "code",
   "execution_count": 60,
   "metadata": {},
   "outputs": [
    {
     "data": {
      "text/plain": [
       "2520"
      ]
     },
     "execution_count": 60,
     "metadata": {},
     "output_type": "execute_result"
    }
   ],
   "source": [
    "reduce(lambda acc,x: x*acc,[3,4,5,6,7],1 )"
   ]
  },
  {
   "cell_type": "code",
   "execution_count": 77,
   "metadata": {},
   "outputs": [
    {
     "name": "stdout",
     "output_type": "stream",
     "text": [
      "[(10, -1), (0, 2), (4, 3), (9, 9)]\n",
      "[(10, -1), (0, 2), (4, 3), (9, 9)]\n"
     ]
    }
   ],
   "source": [
    "my_tuples = [(0,2),(4,3),(9,9),(10,-1)]\n",
    "\n",
    "def func(my_tuple): \n",
    "    return my_tuple[1]\n",
    "print(sorted(my_tuples, key=func ))\n",
    "print(sorted(my_tuples, key=lambda my_tuple: my_tuple[1] ))"
   ]
  },
  {
   "cell_type": "code",
   "execution_count": 71,
   "metadata": {},
   "outputs": [],
   "source": [
    "def func(my_tuple): \n",
    "    return my_tuple[1]"
   ]
  },
  {
   "cell_type": "code",
   "execution_count": 74,
   "metadata": {},
   "outputs": [
    {
     "data": {
      "text/plain": [
       "6"
      ]
     },
     "execution_count": 74,
     "metadata": {},
     "output_type": "execute_result"
    }
   ],
   "source": [
    "func((5,6))"
   ]
  },
  {
   "cell_type": "markdown",
   "metadata": {},
   "source": [
    "### <u> COMPREHENSIONS </u>\n",
    "\n",
    "#### <u> LIST COMPREHENSIONS </u>\n",
    "\n",
    " - allow us to create a list using a for loop in one step.\n",
    " - You create a list comprehension with brackets `[]` , including an expression to evaluate for each element in an iterable.\n",
    " - You can also add conditionals to list comprehensions (listcomps). After the iterable, you can use the if keyword to check a condition in each iteration.\n",
    " - If you would like to add else, you have to move the conditionals to the beginning of the listcomp, right after the expression, like this.\n",
    "\n",
    "```python\n",
    "\n",
    "squares = [x**2 for x in range(9) if x % 2 == 0]\n",
    "squares = [x**2 if x % 2 == 0 else x + 3 for x in range(9)]\n",
    "squares = [x**2 for x in range(9) if x % 2 == 0 else x + 3] #error\n",
    "my_odd_nums = [num for num in range(100)if num %2 ==1 ] \n",
    "\n",
    "```\n",
    "\n",
    "#### <u> SET and DICT COMPREHENSIONS </u>\n",
    "\n",
    "```python\n",
    "unique_chars = { char for char in \"helloworld\" }\n",
    "\n",
    "```\n",
    "\n",
    "```python\n",
    "base_dict={\n",
    "    'a':1,\n",
    "    'b':2\n",
    "}\n",
    "my_dict1 = {key:value**2 for key,value in base_dict.items() } \n",
    "my_dict2 = {index:num for index,num in enumerate([1,2,3]) }\n",
    "my_dict3 = {num:num**3 for index,num in enumerate([1,2,3]) }\n",
    "```"
   ]
  },
  {
   "cell_type": "code",
   "execution_count": 130,
   "metadata": {},
   "outputs": [
    {
     "name": "stdout",
     "output_type": "stream",
     "text": [
      "['b', 'n']\n"
     ]
    }
   ],
   "source": [
    "# exercise\n",
    "\n",
    "some_list = ['a', 'b', 'c', 'b', 'd', 'm', 'n', 'n']\n",
    "\n",
    "duplicates = []\n",
    "for value in some_list:\n",
    "    if some_list.count(value) > 1:\n",
    "        if value not in duplicates:\n",
    "            duplicates.append(value)\n",
    "\n",
    "print(duplicates)"
   ]
  },
  {
   "cell_type": "code",
   "execution_count": 131,
   "metadata": {},
   "outputs": [],
   "source": [
    "duplicates_too = {char for char in some_list if some_list.count(char) > 1 }"
   ]
  },
  {
   "cell_type": "code",
   "execution_count": 132,
   "metadata": {},
   "outputs": [
    {
     "data": {
      "text/plain": [
       "{'b', 'n'}"
      ]
     },
     "execution_count": 132,
     "metadata": {},
     "output_type": "execute_result"
    }
   ],
   "source": [
    "duplicates_too"
   ]
  },
  {
   "cell_type": "code",
   "execution_count": 129,
   "metadata": {},
   "outputs": [
    {
     "data": {
      "text/plain": [
       "['n', 'b']"
      ]
     },
     "execution_count": 129,
     "metadata": {},
     "output_type": "execute_result"
    }
   ],
   "source": [
    "list(duplicates_too)"
   ]
  },
  {
   "cell_type": "code",
   "execution_count": null,
   "metadata": {},
   "outputs": [],
   "source": []
  }
 ],
 "metadata": {
  "kernelspec": {
   "display_name": "conda_python3",
   "language": "python",
   "name": "conda_python3"
  },
  "language_info": {
   "codemirror_mode": {
    "name": "ipython",
    "version": 3
   },
   "file_extension": ".py",
   "mimetype": "text/x-python",
   "name": "python",
   "nbconvert_exporter": "python",
   "pygments_lexer": "ipython3",
   "version": "3.6.5"
  }
 },
 "nbformat": 4,
 "nbformat_minor": 4
}
