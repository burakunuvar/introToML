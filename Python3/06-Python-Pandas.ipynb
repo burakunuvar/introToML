{
 "cells": [
  {
   "cell_type": "markdown",
   "metadata": {},
   "source": [
    "## <u> Introduction to Pandas </u>\n",
    "\n",
    "  - **Introduction**\n",
    "  \n",
    "    - Pandas is a package for data manipulation and analysis in Python. The name Pandas is derived from the econometrics term Panel Data. \n",
    "    - Pandas incorporates two additional data structures into Python, namely Pandas Series and Pandas DataFrame. These data structures allow us to work with labeled and relational data in an easy and intuitive manner. \n",
    "    - [Pandas Documentations](https://pandas.pydata.org/pandas-docs/stable/)\n",
    "    \n",
    "  - **Why to Use** \n",
    "    The recent success of machine learning algorithms is partly due to the huge amounts of data that we have available to train our algorithms on. However, when it comes to data, quantity is not the only thing that matters, the quality of your data is just as important. It often happens that large datasets don’t come ready to be fed into your learning algorithms. More often than not, large datasets will often have missing values, outliers, incorrect values, etc… Having data with a lot of missing or bad values, for example, is not going to allow your machine learning algorithms to perform well. Therefore, one very important step in machine learning is to look at your data first and make sure it is well suited for your training algorithm by doing some basic data analysis. This is where Pandas come in. Pandas Series and DataFrames are designed for fast data analysis and manipulation, as well as being flexible and easy to use. Below are just a few features that makes Pandas an excellent package for data analysis:\n",
    "     \n",
    "       - Allows the use of labels for rows and columns\n",
    "       - Can calculate rolling statistics on time series data\n",
    "       - Easy handling of NaN values\n",
    "       - Is able to load data of different formats into DataFrames\n",
    "       - Can join and merge different datasets together\n",
    "       - It integrates with NumPy and Matplotlib\n"
   ]
  },
  {
   "cell_type": "code",
   "execution_count": null,
   "metadata": {},
   "outputs": [],
   "source": [
    "!conda list pandas"
   ]
  },
  {
   "cell_type": "markdown",
   "metadata": {},
   "source": [
    "### <u> Creating Pandas Series </u>\n",
    "\n",
    " - A Pandas series is a **one-dimensional array-like object** that can hold many data types, such as numbers or strings. \n",
    " \n",
    " \n",
    " - **Pandas Series VS NumPy ndarrays**\n",
    " \n",
    "   - you can assign an index label to each element in the Pandas Series \n",
    "   \n",
    "   - you can name the indices of your Pandas Series anything you want\n",
    "   \n",
    "   - you can hold data of different data types in the Pandas Series\n",
    "   \n",
    "   \n",
    " - You can create Pandas Series by using the command: \n",
    " \n",
    "   - `pd.Series(data, index)` where index is a list of index labels.\n",
    "   - default indices are numbers from 0 to len (Pandas will use numerical row indexes)\n",
    "   - the data is indexed with the names provided\n",
    "   - data in Pandas Series has both integers and strings.\n",
    "   \n",
    "  \n",
    " - **=> Attrubutes for Pandas Series**: allows us to get information from the series in an easy way.\n",
    " \n",
    "   - `series_name.shape` gives shape (displayes number of columns & rows ) \n",
    "   - `series_name.ndim` gives dimension (1D for series, ND for dataframes... ) \n",
    "   - `series_name.size` gives total number of elements\n",
    "   - `series_name.values` prints only values of elements\n",
    "   - `series_name.index` prints only index labels\n",
    "   - `'sample'in series_name` checks whether an index label exists,"
   ]
  },
  {
   "cell_type": "code",
   "execution_count": null,
   "metadata": {},
   "outputs": [],
   "source": [
    "# We import Pandas as pd into Python\n",
    "import pandas as pd\n",
    "\n",
    "# We create a Pandas Series that stores a grocery list\n",
    "groceries = pd.Series(data = [30, 6, 'Yes', 'No'], index = ['eggs', 'apples', 'milk', 'bread'])\n",
    "groceries_data = pd.Series(data = [30, 6, 'Yes', 'No'])\n",
    "# We display the Groceries Pandas Series\n",
    "groceries\n",
    "groceries_data"
   ]
  },
  {
   "cell_type": "code",
   "execution_count": null,
   "metadata": {},
   "outputs": [],
   "source": [
    "# We print some information about Groceries\n",
    "print('Groceries has shape:', groceries.shape)\n",
    "print('Groceries has dimension:', groceries.ndim)\n",
    "print('Groceries has a total of', groceries.size, 'elements')"
   ]
  },
  {
   "cell_type": "code",
   "execution_count": null,
   "metadata": {},
   "outputs": [],
   "source": [
    "# We print the index and data of Groceries\n",
    "print('The data in Groceries is:', groceries.values)\n",
    "print('The index of Groceries is:', groceries.index)"
   ]
  },
  {
   "cell_type": "code",
   "execution_count": null,
   "metadata": {},
   "outputs": [],
   "source": [
    "# We check whether * is a food item (an index) in Groceries\n",
    "print('bananas' in groceries.index )\n",
    "print('bread' in groceries ) #by default , it searches indices \n",
    "print(30 in groceries.values ) # could be used to search in elements"
   ]
  },
  {
   "cell_type": "markdown",
   "metadata": {},
   "source": [
    "### <u> Arithmetic Operations on Pandas Series </u>\n",
    "\n",
    " - You can perform element-wise arithmetic operations on Pandas Series\n",
    "\n",
    "\n",
    " - You can also apply mathematical functions from NumPy, such as `sqrt(x)` to all elements of a Pandas Series.\n",
    " \n",
    " \n",
    " - Pandas also allows us to only apply arithmetic operations on selected items in our fruits grocery list\n",
    " \n",
    " \n",
    " - You can also apply arithmetic operations on Pandas Series of mixed data type provided that the arithmetic operation is defined for all data types in the Series, otherwise you will get an error. \n",
    " \n",
    " \n",
    " - **=>Reminder! :**  original series doesn't chance after any of those operations\n"
   ]
  },
  {
   "cell_type": "code",
   "execution_count": null,
   "metadata": {},
   "outputs": [],
   "source": [
    "# We create a Pandas Series that stores a grocery list of just fruits\n",
    "fruits= pd.Series(data = [10, 6, 3,], index = ['apples', 'oranges', 'bananas'])\n",
    "\n",
    "# We perform basic element-wise operations using arithmetic symbols\n",
    "print('Original grocery list of fruits:\\n ', fruits)\n",
    "print('fruits + 2:\\n', fruits + 2) # We add 2 to each item in fruits\n",
    "print('fruits - 2:\\n', fruits - 2) # We subtract 2 to each item in fruits\n",
    "print('fruits * 2:\\n', fruits * 2) # We multiply each item in fruits by 2 \n",
    "print('fruits / 2:\\n', fruits / 2) # We divide each item in fruits by 2"
   ]
  },
  {
   "cell_type": "code",
   "execution_count": null,
   "metadata": {},
   "outputs": [],
   "source": [
    "# We import NumPy as np to be able to use the mathematical functions\n",
    "import numpy as np\n",
    "# We apply different mathematical functions to all elements of fruits\n",
    "print('EXP(X) = \\n', np.exp(fruits))\n",
    "print('SQRT(X) =\\n', np.sqrt(fruits))\n",
    "print('POW(X,2) =\\n',np.power(fruits,2)) # We raise all elements of fruits to the power of 2"
   ]
  },
  {
   "cell_type": "code",
   "execution_count": null,
   "metadata": {},
   "outputs": [],
   "source": [
    "import pandas as pd\n",
    "fruits= pd.Series(data = [10, 6, 3,], index = ['apples', 'oranges', 'bananas'])\n",
    "# We add 2 only to the bananas\n",
    "print('Amount of bananas + 2 = ', fruits['bananas'] + 2)\n",
    "# We subtract 2 from apples\n",
    "print('Amount of apples - 2 = ', fruits.iloc[0] - 2)\n",
    "# We multiply apples and oranges by 2\n",
    "print('We double the amount of apples and oranges:\\n', fruits[['apples', 'oranges']] * 2)\n",
    "# We divide apples and oranges by 2\n",
    "print('We half the amount of apples and oranges:\\n', fruits.loc[['apples', 'oranges']] / 2)\n"
   ]
  },
  {
   "cell_type": "code",
   "execution_count": null,
   "metadata": {
    "scrolled": true
   },
   "outputs": [],
   "source": [
    "# make sure operations are valid on all the data types of your elements.\n",
    "print(fruits)\n",
    "# the multiplication operation * is defined both for numbers and strings. \n",
    "print( fruits * 2 )\n",
    "# If you were to apply an operation that was valid for numbers but not strings you will get an error. \n",
    "print( groceries / 2 )\n",
    "#So when you have mixed data types in your Pandas Series make sure the arithmetic "
   ]
  },
  {
   "cell_type": "markdown",
   "metadata": {},
   "source": [
    "### <u> Creating Pandas DataFrames - manually </u>\n",
    "\n",
    "\n",
    "- Pandas DataFrames are **two-dimensional data structures with labeled rows and columns**, that can hold many data types.\n",
    "\n",
    "\n",
    "- We can create Pandas DataFrames manually or by loading data from a file\n",
    "\n",
    "\n",
    "- **Option1: Creating DataFrame from a dictionary of Panda Series**\n",
    "     - labels of rows and columns are displayed in bold\n",
    "     - row labels of the DataFrame are built from the union of the index labels of the used Pandas Series \n",
    "     - column labels of the DataFrame are taken from the keys of the dictionary\n",
    "     - the columns are arranged alphabetically and not in the order given in the dictionary\n",
    "     - `NaN` values appear in the DataFrame. `NaN` stands for `Not a Number`, and is Pandas way of indicating that it doesn't have a value for that particular row and column index.(If we were to feed this data into a machine learning algorithm we will have to remove these NaN values first)\n",
    "     - If we don't provide index labels to the Pandas Series, Pandas will use numerical row indexes when it creates the DataFrame.\n",
    "\n",
    "\n",
    "- **Option2: Creating DataFrame from a dictionary of lists**\n",
    "\n",
    "  - all the lists (arrays) in the dictionary must be of the same length ( which was not the case for series )\n",
    "  \n",
    "  - Pandas automatically uses numerical row indexes when it creates the DataFrame. We can however, put labels to the row index by using the index keyword in the pd.DataFrame() function.\n",
    "\n",
    "\n",
    "- **Option3: Creating DataFrame by using a list of dictionaries**\n",
    "\n",
    "   - The procedure is the same as before, we start by creating the dictionary and then passing the dictionary to the pd.DataFrame() function.\n",
    "   \n",
    "    - Pandas automatically uses numerical row indexes when it creates the DataFrame. We can however, put labels to the row index by using the index keyword in the pd.DataFrame() function.\n"
   ]
  },
  {
   "cell_type": "code",
   "execution_count": 26,
   "metadata": {
    "scrolled": true
   },
   "outputs": [
    {
     "data": {
      "text/html": [
       "<div>\n",
       "<style scoped>\n",
       "    .dataframe tbody tr th:only-of-type {\n",
       "        vertical-align: middle;\n",
       "    }\n",
       "\n",
       "    .dataframe tbody tr th {\n",
       "        vertical-align: top;\n",
       "    }\n",
       "\n",
       "    .dataframe thead th {\n",
       "        text-align: right;\n",
       "    }\n",
       "</style>\n",
       "<table border=\"1\" class=\"dataframe\">\n",
       "  <thead>\n",
       "    <tr style=\"text-align: right;\">\n",
       "      <th></th>\n",
       "      <th>Bob</th>\n",
       "      <th>Alice</th>\n",
       "    </tr>\n",
       "  </thead>\n",
       "  <tbody>\n",
       "    <tr>\n",
       "      <th>bike</th>\n",
       "      <td>245.0</td>\n",
       "      <td>500.0</td>\n",
       "    </tr>\n",
       "    <tr>\n",
       "      <th>book</th>\n",
       "      <td>NaN</td>\n",
       "      <td>40.0</td>\n",
       "    </tr>\n",
       "    <tr>\n",
       "      <th>glasses</th>\n",
       "      <td>NaN</td>\n",
       "      <td>110.0</td>\n",
       "    </tr>\n",
       "    <tr>\n",
       "      <th>pants</th>\n",
       "      <td>25.0</td>\n",
       "      <td>45.0</td>\n",
       "    </tr>\n",
       "    <tr>\n",
       "      <th>watch</th>\n",
       "      <td>55.0</td>\n",
       "      <td>NaN</td>\n",
       "    </tr>\n",
       "  </tbody>\n",
       "</table>\n",
       "</div>"
      ],
      "text/plain": [
       "           Bob  Alice\n",
       "bike     245.0  500.0\n",
       "book       NaN   40.0\n",
       "glasses    NaN  110.0\n",
       "pants     25.0   45.0\n",
       "watch     55.0    NaN"
      ]
     },
     "execution_count": 26,
     "metadata": {},
     "output_type": "execute_result"
    }
   ],
   "source": [
    "# We import Pandas as pd into Python\n",
    "import pandas as pd\n",
    "\n",
    "# We create a dictionary of Pandas Series \n",
    "items = {'Bob' : pd.Series(data = [245, 25, 55], index = ['bike', 'pants', 'watch']),\n",
    "         'Alice' : pd.Series(data = [40, 110, 500, 45], index = ['book', 'glasses', 'bike', 'pants'])}\n",
    "\n",
    "# We print the type of items to see that it is a dictionary\n",
    "#print(type(items))\n",
    "#print(items)\n",
    "\n",
    "# We create a Pandas DataFrame by passing it a dictionary of Pandas Series\n",
    "shopping_carts = pd.DataFrame(items)\n",
    "\n",
    "# We display the DataFrame\n",
    "shopping_carts"
   ]
  },
  {
   "cell_type": "code",
   "execution_count": null,
   "metadata": {
    "scrolled": false
   },
   "outputs": [],
   "source": [
    "# We create a dictionary of Pandas Series without indexes\n",
    "items_no_index = {'Bob' : pd.Series([245, 25, 55]),\n",
    "        'Alice' : pd.Series([40, 110, 500, 45])}\n",
    "\n",
    "# We create a DataFrame\n",
    "df = pd.DataFrame(items_no_index)\n",
    "\n",
    "# We display the DataFrame\n",
    "df"
   ]
  },
  {
   "cell_type": "code",
   "execution_count": null,
   "metadata": {
    "scrolled": false
   },
   "outputs": [],
   "source": [
    "# We create a dictionary of lists (arrays)\n",
    "data = {'Integers' : [1,2,3],\n",
    "        'Floats' : [4.5, 8.2, 9.6]}\n",
    "\n",
    "# We create a DataFrame \n",
    "df = pd.DataFrame(data)\n",
    "\n",
    "# We display the DataFrame\n",
    "df"
   ]
  },
  {
   "cell_type": "code",
   "execution_count": null,
   "metadata": {},
   "outputs": [],
   "source": [
    "# We create a dictionary of lists (arrays)\n",
    "data = {'Integers' : [1,2,3],\n",
    "        'Floats' : [4.5, 8.2, 9.6]}\n",
    "\n",
    "# We create a DataFrame and provide the row index\n",
    "df = pd.DataFrame(data, index = ['label 1', 'label 2', 'label 3'])\n",
    "\n",
    "# We display the DataFrame\n",
    "df"
   ]
  },
  {
   "cell_type": "code",
   "execution_count": 27,
   "metadata": {},
   "outputs": [
    {
     "data": {
      "text/html": [
       "<div>\n",
       "<style scoped>\n",
       "    .dataframe tbody tr th:only-of-type {\n",
       "        vertical-align: middle;\n",
       "    }\n",
       "\n",
       "    .dataframe tbody tr th {\n",
       "        vertical-align: top;\n",
       "    }\n",
       "\n",
       "    .dataframe thead th {\n",
       "        text-align: right;\n",
       "    }\n",
       "</style>\n",
       "<table border=\"1\" class=\"dataframe\">\n",
       "  <thead>\n",
       "    <tr style=\"text-align: right;\">\n",
       "      <th></th>\n",
       "      <th>bikes</th>\n",
       "      <th>glasses</th>\n",
       "      <th>pants</th>\n",
       "      <th>watches</th>\n",
       "    </tr>\n",
       "  </thead>\n",
       "  <tbody>\n",
       "    <tr>\n",
       "      <th>0</th>\n",
       "      <td>20</td>\n",
       "      <td>NaN</td>\n",
       "      <td>30</td>\n",
       "      <td>35</td>\n",
       "    </tr>\n",
       "    <tr>\n",
       "      <th>1</th>\n",
       "      <td>15</td>\n",
       "      <td>50.0</td>\n",
       "      <td>5</td>\n",
       "      <td>10</td>\n",
       "    </tr>\n",
       "  </tbody>\n",
       "</table>\n",
       "</div>"
      ],
      "text/plain": [
       "   bikes  glasses  pants  watches\n",
       "0     20      NaN     30       35\n",
       "1     15     50.0      5       10"
      ]
     },
     "execution_count": 27,
     "metadata": {},
     "output_type": "execute_result"
    }
   ],
   "source": [
    "# We create a list of Python dictionaries\n",
    "items2 = [{'bikes': 20, 'pants': 30, 'watches': 35}, \n",
    "          {'watches': 10, 'glasses': 50, 'bikes': 15, 'pants':5}]\n",
    "\n",
    "# We create a DataFrame \n",
    "store_items = pd.DataFrame(items2)\n",
    "\n",
    "# We display the DataFrame\n",
    "store_items"
   ]
  },
  {
   "cell_type": "code",
   "execution_count": null,
   "metadata": {},
   "outputs": [],
   "source": [
    "# We create a list of Python dictionaries\n",
    "items2 = [{'bikes': 20, 'pants': 30, 'watches': 35}, \n",
    "          {'watches': 10, 'glasses': 50, 'bikes': 15, 'pants':5}]\n",
    "\n",
    "# We create a DataFrame  and provide the row index\n",
    "store_items = pd.DataFrame(items2, index = ['store 1', 'store 2'])\n",
    "\n",
    "# We display the DataFrame\n",
    "store_items"
   ]
  },
  {
   "cell_type": "code",
   "execution_count": null,
   "metadata": {},
   "outputs": [],
   "source": [
    "print(items)\n",
    "print()\n",
    "print(items_no_index)\n",
    "print()\n",
    "print(data)\n",
    "print(items2)"
   ]
  },
  {
   "cell_type": "markdown",
   "metadata": {},
   "source": [
    "**=> Attributes for DataFrames** \n",
    "\n",
    "- Pandas DataFrames have attributes that allows us to get information from the series in an easy way.\n",
    " \n",
    "   - `dataframe_name.shape` gives shape (displayes number of columns & rows ) \n",
    "   - `dataframe_name.ndim` gives dimension (1D , 2D ... ) \n",
    "   - `dataframe_name.size` gives total number of elements\n",
    "   - `dataframe_name.values` displayes values of elements\n",
    "   - `dataframe_name.index` displays index labels\n",
    "   - `dataframe_name.columns` displays columns\n",
    "\n",
    "\n",
    "**=> Retrieving a subset of data ** \n",
    "\n",
    "- Retrieving a subset of data instead of the entire dictionary by keywords `column` and `index` \n",
    "\n",
    "   - **`subset_of_frame = pd.DataFrame(dict_name, columns=['...']) `**\n",
    "   - **`subset_of_frame = pd.DataFrame(dict_name, index=['...']) `**\n",
    "   - **`subset_of_frame = pd.DataFrame(dict_name, columns=['...'],index=['...']) `**\n"
   ]
  },
  {
   "cell_type": "code",
   "execution_count": null,
   "metadata": {},
   "outputs": [],
   "source": [
    "# We print some information about shopping_carts\n",
    "print('shopping_carts has shape:', shopping_carts.shape)\n",
    "print('shopping_carts has dimension:', shopping_carts.ndim)\n",
    "print('shopping_carts has a total of:', shopping_carts.size, 'elements')\n",
    "print()\n",
    "print('The data in shopping_carts is:\\n', shopping_carts.values)\n",
    "print()\n",
    "print('The row index in shopping_carts is:', shopping_carts.index)\n",
    "print()\n",
    "print('The column index in shopping_carts is:', shopping_carts.columns)"
   ]
  },
  {
   "cell_type": "code",
   "execution_count": null,
   "metadata": {},
   "outputs": [],
   "source": [
    "# We Create a DataFrame that only has Bob's data\n",
    "bob_shopping_cart = pd.DataFrame(items, columns=['Bob'])\n",
    "\n",
    "# We display bob_shopping_cart\n",
    "bob_shopping_cart\n",
    "\n",
    "# We Create a DataFrame that only has selected items for both Alice and Bob\n",
    "sel_shopping_cart = pd.DataFrame(items, index = ['pants', 'book'])\n",
    "\n",
    "# We display sel_shopping_cart\n",
    "sel_shopping_cart\n",
    "\n",
    "# We Create a DataFrame that only has selected items for Alice\n",
    "alice_sel_shopping_cart = pd.DataFrame(items, index = ['glasses', 'bike'], columns = ['Alice'])\n",
    "\n",
    "# We display alice_sel_shopping_cart\n",
    "alice_sel_shopping_cart"
   ]
  },
  {
   "cell_type": "markdown",
   "metadata": {},
   "source": [
    "### Accessing Elements in Pandas DataFrames \n",
    "\n",
    "- In general, we can access rows, columns, or individual elements of the DataFrame by using the row and column labels\n",
    "\n",
    "- the labels should always be provided with the column label first, i.e. `dataframe[column][row] ` \n",
    "\n",
    "- If you provide the row label first you will get an error.\n"
   ]
  },
  {
   "cell_type": "code",
   "execution_count": null,
   "metadata": {},
   "outputs": [],
   "source": [
    "# We print the store_items DataFrame\n",
    "print(store_items)\n",
    "\n",
    "# We access rows, columns and elements using labels\n",
    "print()\n",
    "print('How many bikes are in each store:\\n', store_items[['bikes']])\n",
    "print()\n",
    "print('How many bikes and pants are in each store:\\n', store_items[['bikes', 'pants']])\n",
    "print()\n",
    "print('What items are in Store 1:\\n', store_items.loc[['store 1']])\n",
    "print()\n",
    "print('How many bikes are in Store 2:', store_items['bikes']['store 2'])"
   ]
  },
  {
   "cell_type": "markdown",
   "metadata": {},
   "source": [
    "### Modifying Elements in Pandas DataFrames \n",
    "\n",
    "- **=>Add a new column** \n",
    "\n",
    "  - To add new columns to our DataFrames :\n",
    "  \n",
    "    - `dataframe_name['new_column']=[new_values] `\n",
    "    \n",
    "  - The new column is added at the end of our DataFrame\n",
    "  \n",
    "  - Using arithmetic operations between other columns in our DataFrame :\n",
    "  \n",
    "    - `dataframe_name['new_column'] = store_items['column2'] + store_items['column2']` \n",
    "     \n",
    "  - by using only data from particular rows in particular columns    \n",
    "  \n",
    "     - `dataframe_name['new_column'] = store_items['existing_columns'][:]`\n",
    "        \n",
    "  - The `dataframe.insert(loc,label,data`) method allows us to insert a new column in the dataframe at location `loc`, with the given column `label`, and given `data`. \n",
    "    \n",
    "     - `dataframe_name.insert(location, 'column_name', values)` \n",
    "    \n",
    "    \n",
    "        \n",
    "- ***=>Add a new row** \n",
    "\n",
    "    - To add rows to our DataFrame we first have to create a new Dataframe and then append it to the original DataFrame \n",
    "    \n",
    "      - create a dictionary from a list of Python dictionaries\n",
    "      - create new DataFrame with the new_items \n",
    "      - append new frame to existing DataFrame\n",
    "      - use `sort=True` - the columns have been put in alphabetical order.\n",
    "\n",
    "\n",
    "- ***=>Delete rows and columns** \n",
    "\n",
    "  - `.pop()` and `.drop()` methods are used to delete rows and columns from our DataFrame.\n",
    "   \n",
    "  - `.pop()` method only allows us to delete columns\n",
    "       \n",
    "    - `dataframe_name.pop('column_name')`\n",
    "      \n",
    "  - `.drop()` method can be used to delete both rows and columns by use of the axis keyword. \n",
    "   \n",
    "    - axis = 1 refers to columns -  vertical lines  \n",
    "    - axis = 0 refers to rows - horizontal lines\n",
    "    - `dataframe_name = dataframe_name.drop(['column_name1', 'column_name2'], axis = 1)` \n",
    "    - `dataframe_name = dataframe_name.drop(['index_name1', 'index_name2'], axis = 0)` \n",
    "  \n",
    "  \n",
    "- ***=>change the labels**\n",
    "\n",
    "  - using the `.rename()` method\n",
    "    \n",
    "    - `dataframe_name = dataframe_name.rename(columns = {'column_name': 'new_name'})`\n",
    "    \n",
    "    - `dataframe_name = dataframe_name.rename(index = {'index_name': 'new_name'})`\n",
    " \n",
    "  - changing the index as one of the columns in the DataFrame is also possible  \n",
    " \n",
    "    - `dataframe_name = dataframe_name..set_index('column_name')`\n",
    "     "
   ]
  },
  {
   "cell_type": "code",
   "execution_count": null,
   "metadata": {},
   "outputs": [],
   "source": [
    "# We create a list of Python dictionaries\n",
    "items2 = [{'bikes': 20, 'pants': 30, 'watches': 35}, \n",
    "          {'watches': 10, 'glasses': 50, 'bikes': 15, 'pants':5}]\n",
    "\n",
    "# We create a DataFrame  and provide the row index\n",
    "store_items = pd.DataFrame(items2, index = ['store 1', 'store 2'])\n",
    "\n",
    "# We display the DataFrame\n",
    "store_items"
   ]
  },
  {
   "cell_type": "code",
   "execution_count": null,
   "metadata": {},
   "outputs": [],
   "source": [
    "# We add a new column named shirts to our store_items DataFrame indicating the number of\n",
    "# shirts in stock at each store. We will put 15 shirts in store 1 and 2 shirts in store 2\n",
    "store_items['shirts'] = [15,2]\n",
    "\n",
    "# We display the modified DataFrame\n",
    "store_items"
   ]
  },
  {
   "cell_type": "code",
   "execution_count": null,
   "metadata": {},
   "outputs": [],
   "source": [
    "# We make a new column called suits by adding the number of shirts and pants\n",
    "store_items['suits'] = store_items['pants'] + store_items['shirts']\n",
    "\n",
    "# We display the modified DataFrame\n",
    "store_items"
   ]
  },
  {
   "cell_type": "code",
   "execution_count": null,
   "metadata": {},
   "outputs": [],
   "source": [
    "# We create a dictionary from a list of Python dictionaries that will number of items at the new store\n",
    "new_items = [{'bikes': 20, 'pants': 30, 'watches': 35, 'glasses': 4}]\n",
    "\n",
    "# We create new DataFrame with the new_items and provide and index labeled store 3\n",
    "new_store = pd.DataFrame(new_items,index = ['store 3'])\n",
    "#new_store = pd.DataFrame(new_items)\n",
    "\n",
    "# We display the items at the new store\n",
    "new_store"
   ]
  },
  {
   "cell_type": "code",
   "execution_count": null,
   "metadata": {},
   "outputs": [],
   "source": [
    "# We append store 3 to our store_items DataFrame\n",
    "store_items = store_items.append(new_store,sort=True)\n",
    "\n",
    "# We display the modified DataFrame\n",
    "store_items"
   ]
  },
  {
   "cell_type": "code",
   "execution_count": null,
   "metadata": {},
   "outputs": [],
   "source": [
    "# We add a new column using data from particular rows in the watches column\n",
    "store_items['new watches'] = store_items['watches'][1:]\n",
    "\n",
    "# We display the modified DataFrame\n",
    "store_items"
   ]
  },
  {
   "cell_type": "code",
   "execution_count": null,
   "metadata": {},
   "outputs": [],
   "source": [
    "# We insert a new column with label shoes right before the column with numerical index 4\n",
    "store_items.insert(4, 'shoes', [8,5,0])\n",
    "\n",
    "# we display the modified DataFrame\n",
    "store_items"
   ]
  },
  {
   "cell_type": "code",
   "execution_count": null,
   "metadata": {},
   "outputs": [],
   "source": [
    "# We remove the new watches column\n",
    "store_items.pop('new watches')\n",
    "\n",
    "# we display the modified DataFrame\n",
    "store_items"
   ]
  },
  {
   "cell_type": "code",
   "execution_count": null,
   "metadata": {},
   "outputs": [],
   "source": [
    "# We remove the watches and shoes columns\n",
    "store_items = store_items.drop(['watches', 'shoes'], axis = 1)\n",
    "\n",
    "# we display the modified DataFrame\n",
    "store_items"
   ]
  },
  {
   "cell_type": "code",
   "execution_count": null,
   "metadata": {},
   "outputs": [],
   "source": [
    "# We remove the store 2 and store 1 rows\n",
    "store_items = store_items.drop(['store 2', 'store 1'], axis = 0)\n",
    "\n",
    "# we display the modified DataFrame\n",
    "store_items"
   ]
  },
  {
   "cell_type": "code",
   "execution_count": null,
   "metadata": {},
   "outputs": [],
   "source": [
    "# We change the column label bikes to hats\n",
    "store_items = store_items.rename(columns = {'bikes': 'hats'})\n",
    "\n",
    "# we display the modified DataFrame\n",
    "store_items"
   ]
  },
  {
   "cell_type": "code",
   "execution_count": null,
   "metadata": {
    "scrolled": true
   },
   "outputs": [],
   "source": [
    "# We change the row label from store 3 to last store\n",
    "store_items = store_items.rename(index = {'store 3': 'last store'})\n",
    "\n",
    "# we display the modified DataFrame\n",
    "store_items"
   ]
  },
  {
   "cell_type": "code",
   "execution_count": null,
   "metadata": {},
   "outputs": [],
   "source": [
    "# We change the row index to be the data in the pants column\n",
    "store_items = store_items.set_index('pants')\n",
    "\n",
    "# we display the modified DataFrame\n",
    "store_items"
   ]
  },
  {
   "cell_type": "markdown",
   "metadata": {},
   "source": [
    "### Dealing with NaN\n",
    "\n",
    "- We need to have a method for detecting and correcting errors in our data. While any given dataset can have many types of bad data, such as outliers or incorrect values, the type of bad data we encounter almost always is missing values. Pandas assigns NaN values to missing data\n",
    "\n",
    "\n",
    "- **Combine the .isnull() and the sum()** \n",
    "  \n",
    "  - .isnull() method returns a Boolean DataFrame of the same size\n",
    "  - `x =  data_frame_name.isnull()` to label as True with numerical value 1 and False with numerical value 0\n",
    "  - `x =  data_frame_name.isnull().any` to display NaNs along columns\n",
    "  - `x =  data_frame_name.isnull().sum()` to count NaNs along columns\n",
    "  - `x =  data_frame_name.isnull().sum().sum()` to count total NaNs\n",
    "\n",
    "\n",
    "- **Count the number of non-NaN values** \n",
    "\n",
    "  - `data_frame_name.count()` to count non-NaNs along columns\n",
    "  \n",
    "  \n",
    "- **Eliminate rows or columns that contain any NaN values**\n",
    "\n",
    "  - `.dropna(axis)` method eliminates any rows with NaN values when axis = 0 is used \n",
    "  - `.dropna(axis)` method eliminates any columns with NaN values when axis = 1 is used\n",
    "  - The original DataFrame is not modified. \n",
    "  - You can remove the desired rows or columns in place by setting the keyword `inplace = True` inside `dropna()`.\n",
    "\n",
    "\n",
    "- **Eliminate NaN values**\n",
    "\n",
    "  - **with value**  \n",
    "    - `data_frame_name.fillna(value) `\n",
    "    \n",
    "  - **forward filling**\n",
    "    - `data_frame_name.fillna(method = 'ffill', axis = 0)`\n",
    "    - `data_frame_name.fillna(method = 'ffill', axis = 1)`\n",
    "  \n",
    "  - **backward filling**\n",
    "    - `data_frame_name.fillna(method = 'ffill', axis = 0)`\n",
    "    - `data_frame_name.fillna(method = 'backfill', axis = 1)`\n",
    "  \n",
    "  - **interpolation methods**\n",
    "    - will use linear interpolation to replace NaN values using the values along the given axis. \n",
    "    - `data_frame_name.interpolate(method = 'linear', axis=0)`  replace NaN values by using column values\n",
    "    - `data_frame_name.interpolate(method = 'linear', axis=1)` replace NaN values by using row values\n",
    "  \n",
    "  - The original DataFrame is not modified. \n",
    "  \n",
    "  - You can replace the NaN values in place by setting the keyword `inplace = True` inside the `fillna()` function.\n",
    "  \n"
   ]
  },
  {
   "cell_type": "code",
   "execution_count": null,
   "metadata": {},
   "outputs": [],
   "source": [
    "# We create a list of Python dictionaries\n",
    "items2 = [{'bikes': 20, 'pants': 30, 'watches': 35, 'shirts': 15, 'shoes':8, 'suits':45},\n",
    "{'watches': 10, 'glasses': 50, 'bikes': 15, 'pants':5, 'shirts': 2, 'shoes':5, 'suits':7},\n",
    "{'bikes': 20, 'pants': 30, 'watches': 35, 'glasses': 4, 'shoes':10}]\n",
    "\n",
    "# We create a DataFrame  and provide the row index\n",
    "store_items = pd.DataFrame(items2, index = ['store 1', 'store 2', 'store 3'])\n",
    "\n",
    "# We display the DataFrame\n",
    "store_items"
   ]
  },
  {
   "cell_type": "code",
   "execution_count": null,
   "metadata": {},
   "outputs": [],
   "source": [
    "# We count the number of NaN values in store_items\n",
    "x =  store_items.isnull().sum().sum()\n",
    "\n",
    "# We print x\n",
    "print('Number of NaN values in our DataFrame:', x)"
   ]
  },
  {
   "cell_type": "code",
   "execution_count": null,
   "metadata": {},
   "outputs": [],
   "source": [
    "# We print the number of non-NaN values in our DataFrame\n",
    "print()\n",
    "print('Number of non-NaN values in the columns of our DataFrame:\\n', store_items.count())"
   ]
  },
  {
   "cell_type": "code",
   "execution_count": null,
   "metadata": {},
   "outputs": [],
   "source": [
    "# We drop any rows with NaN values\n",
    "store_items.dropna(axis = 0)"
   ]
  },
  {
   "cell_type": "code",
   "execution_count": null,
   "metadata": {},
   "outputs": [],
   "source": [
    "# We drop any columns with NaN values\n",
    "store_items.dropna(axis = 1)"
   ]
  },
  {
   "cell_type": "code",
   "execution_count": null,
   "metadata": {},
   "outputs": [],
   "source": [
    "# We replace all NaN values with 0\n",
    "store_items.fillna(0)"
   ]
  },
  {
   "cell_type": "code",
   "execution_count": null,
   "metadata": {},
   "outputs": [],
   "source": [
    "# We replace NaN values with the previous value in the column\n",
    "store_items.fillna(method = 'ffill', axis = 0)"
   ]
  },
  {
   "cell_type": "code",
   "execution_count": null,
   "metadata": {},
   "outputs": [],
   "source": [
    "# We replace NaN values with the previous value in the row\n",
    "store_items.fillna(method = 'ffill', axis = 1)"
   ]
  },
  {
   "cell_type": "code",
   "execution_count": null,
   "metadata": {},
   "outputs": [],
   "source": [
    "# We replace NaN values with the next value in the column\n",
    "store_items.fillna(method = 'backfill', axis = 0)"
   ]
  },
  {
   "cell_type": "code",
   "execution_count": null,
   "metadata": {},
   "outputs": [],
   "source": [
    "# We replace NaN values with the next value in the row\n",
    "store_items.fillna(method = 'backfill', axis = 1)"
   ]
  },
  {
   "cell_type": "code",
   "execution_count": null,
   "metadata": {},
   "outputs": [],
   "source": [
    "store_items"
   ]
  },
  {
   "cell_type": "code",
   "execution_count": null,
   "metadata": {},
   "outputs": [],
   "source": [
    "# We replace NaN values by using linear interpolation using column values\n",
    "store_items.interpolate(method = 'linear', axis = 0)"
   ]
  },
  {
   "cell_type": "code",
   "execution_count": null,
   "metadata": {},
   "outputs": [],
   "source": [
    "# We replace NaN values by using linear interpolation using row values\n",
    "store_items.interpolate(method = 'linear', axis = 1)"
   ]
  },
  {
   "cell_type": "code",
   "execution_count": null,
   "metadata": {},
   "outputs": [],
   "source": [
    "import pandas as pd\n",
    "import numpy as np\n",
    "\n",
    "# Since we will be working with ratings, we will set the precision of our \n",
    "# dataframes to one decimal place.\n",
    "pd.set_option('precision', 1)\n",
    "\n",
    "# Create a Pandas DataFrame that contains the ratings some users have given to a\n",
    "# series of books. The ratings given are in the range from 1 to 5, with 5 being\n",
    "# the best score. The names of the books, the authors, and the ratings of each user\n",
    "# are given below:\n",
    "\n",
    "books = pd.Series(data = ['Great Expectations', 'Of Mice and Men', 'Romeo and Juliet', 'The Time Machine', 'Alice in Wonderland' ])\n",
    "authors = pd.Series(data = ['Charles Dickens', 'John Steinbeck', 'William Shakespeare', ' H. G. Wells', 'Lewis Carroll' ])\n",
    "\n",
    "user_1 = pd.Series(data = [3.2, np.nan ,2.5])\n",
    "user_2 = pd.Series(data = [5., 1.3, 4.0, 3.8])\n",
    "user_3 = pd.Series(data = [2.0, 2.3, np.nan, 4])\n",
    "user_4 = pd.Series(data = [4, 3.5, 4, 5, 4.2])\n",
    "\n",
    "# Users that have np.nan values means that the user has not yet rated that book.\n",
    "# Use the data above to create a Pandas DataFrame that has the following column\n",
    "# labels: 'Author', 'Book Title', 'User 1', 'User 2', 'User 3', 'User 4'. Let Pandas\n",
    "# automatically assign numerical row indices to the DataFrame. \n",
    "\n",
    "# Create a dictionary with the data given above\n",
    "dat = {'Author' : authors,\n",
    "         'Book Title' :books,\n",
    "         'User 1' : user_1,\n",
    "         'User 2' : user_2,\n",
    "         'User 3' : user_3,\n",
    "         'User 4' : user_4 \n",
    "        }\n",
    "\n",
    "# Use the dictionary to create a Pandas DataFrame\n",
    "book_ratings = pd.DataFrame(dat)\n",
    "\n",
    "\n",
    "\n",
    "# If you created the dictionary correctly you should have a Pandas DataFrame\n",
    "# that has column labels: 'Author', 'Book Title', 'User 1', 'User 2', 'User 3',\n",
    "# 'User 4' and row indices 0 through 4.\n",
    "\n",
    "# Now replace all the NaN values in your DataFrame with the average rating in\n",
    "# each column. Replace the NaN values in place. HINT: you can use the fillna()\n",
    "# function with the keyword inplace = True, to do this. Write your code below:\n",
    "\n",
    "book_ratings.fillna(book_ratings.mean(), inplace=True)\n",
    "                       "
   ]
  },
  {
   "cell_type": "code",
   "execution_count": null,
   "metadata": {},
   "outputs": [],
   "source": [
    "book_ratings"
   ]
  },
  {
   "cell_type": "code",
   "execution_count": null,
   "metadata": {},
   "outputs": [],
   "source": [
    "book_ratings.fillna(book_ratings.mean(), inplace=True)\n",
    "book_ratings  "
   ]
  },
  {
   "cell_type": "code",
   "execution_count": null,
   "metadata": {},
   "outputs": [],
   "source": [
    "# best_rated = book_ratings[(book_ratings == 5).any(axis = 1)]['Book Title'].values\n",
    "ratings_top = book_ratings[(book_ratings == 5).any(axis = 1)]\n",
    "#ratings_only\n",
    "ratings_top['Book Title']\n",
    "ratings_top['Book Title'].values"
   ]
  },
  {
   "cell_type": "code",
   "execution_count": null,
   "metadata": {},
   "outputs": [],
   "source": [
    "ratings_best = book_ratings[book_ratings==5]\n",
    "ratings_best"
   ]
  },
  {
   "cell_type": "code",
   "execution_count": null,
   "metadata": {},
   "outputs": [],
   "source": [
    "#store_items = store_items.set_index('pants')\n",
    "book_ratings = book_ratings.set_index('Book Title')"
   ]
  },
  {
   "cell_type": "code",
   "execution_count": null,
   "metadata": {},
   "outputs": [],
   "source": [
    "book_ratings"
   ]
  },
  {
   "cell_type": "code",
   "execution_count": null,
   "metadata": {},
   "outputs": [],
   "source": [
    "ratings_best.dropna(axis = 0)"
   ]
  },
  {
   "cell_type": "markdown",
   "metadata": {},
   "source": [
    "### <u> Creating Pandas DataFrames - loading data from a file </u>\n",
    "\n",
    "\n",
    "- Pandas DataFrames are two-dimensional data structures with labeled rows and columns, that can hold many data types.\n",
    "\n",
    "\n",
    "- We can create Pandas DataFrames manually or by loading data from a file\n",
    "\n",
    "\n",
    "- to take a look at the first **few rows** of large data sets :\n",
    "  - `dataframe_name.head(N)`\n",
    "  - `dataframe_name.tail(N)`\n",
    "  - `N` is number of rows to be listed, where default is 5 \n",
    "  \n",
    "  \n",
    "- to check whether any of the columns contain **NaN values**: \n",
    "  - `dataframe_name.isnull().any()`\n",
    "  \n",
    "  \n",
    "- to get **descriptive statistics** on each column of the DataFrame\n",
    "  - `dataframe_name.describe()` \n",
    "    - displays mean, avg, count ... \n",
    "  - `dataframe_name['column name'].describe()`\n",
    "  - `dataframe_name.max()` \n",
    "  - `dataframe_name.mean()` \n",
    "  - `dataframe_name['column name'].min()`\n",
    "  - `dataframe_name.corr()` correlation along columns\n",
    "    - A correlation value of 1 tells us there is a high correlation and a correlation of 0 tells us that the data is not correlated at all.\n",
    "\n"
   ]
  },
  {
   "cell_type": "code",
   "execution_count": null,
   "metadata": {},
   "outputs": [],
   "source": [
    "import pandas as pd\n",
    "# We load Google stock data in a DataFrame\n",
    "Google_stock = pd.read_csv('./goog-1.csv')\n",
    "\n",
    "# We print some information about Google_stock\n",
    "print('Google_stock is of type:', type(Google_stock))\n",
    "print('Google_stock has shape:', Google_stock.shape)\n",
    "Google_stock"
   ]
  },
  {
   "cell_type": "code",
   "execution_count": 3,
   "metadata": {},
   "outputs": [
    {
     "data": {
      "text/plain": [
       "count    3313.000000\n",
       "mean      380.072458\n",
       "std       223.853780\n",
       "min        49.681866\n",
       "25%       226.407440\n",
       "50%       293.029114\n",
       "75%       536.690002\n",
       "max       989.679993\n",
       "Name: Adj Close, dtype: float64"
      ]
     },
     "execution_count": 3,
     "metadata": {},
     "output_type": "execute_result"
    }
   ],
   "source": [
    "Google_stock['Adj Close'].describe()"
   ]
  },
  {
   "cell_type": "code",
   "execution_count": 4,
   "metadata": {},
   "outputs": [
    {
     "data": {
      "text/html": [
       "<div>\n",
       "<style scoped>\n",
       "    .dataframe tbody tr th:only-of-type {\n",
       "        vertical-align: middle;\n",
       "    }\n",
       "\n",
       "    .dataframe tbody tr th {\n",
       "        vertical-align: top;\n",
       "    }\n",
       "\n",
       "    .dataframe thead th {\n",
       "        text-align: right;\n",
       "    }\n",
       "</style>\n",
       "<table border=\"1\" class=\"dataframe\">\n",
       "  <thead>\n",
       "    <tr style=\"text-align: right;\">\n",
       "      <th></th>\n",
       "      <th>Open</th>\n",
       "      <th>High</th>\n",
       "      <th>Low</th>\n",
       "      <th>Close</th>\n",
       "      <th>Adj Close</th>\n",
       "      <th>Volume</th>\n",
       "    </tr>\n",
       "  </thead>\n",
       "  <tbody>\n",
       "    <tr>\n",
       "      <th>Open</th>\n",
       "      <td>1.000000</td>\n",
       "      <td>0.999904</td>\n",
       "      <td>0.999845</td>\n",
       "      <td>0.999745</td>\n",
       "      <td>0.999745</td>\n",
       "      <td>-0.564258</td>\n",
       "    </tr>\n",
       "    <tr>\n",
       "      <th>High</th>\n",
       "      <td>0.999904</td>\n",
       "      <td>1.000000</td>\n",
       "      <td>0.999834</td>\n",
       "      <td>0.999868</td>\n",
       "      <td>0.999868</td>\n",
       "      <td>-0.562749</td>\n",
       "    </tr>\n",
       "    <tr>\n",
       "      <th>Low</th>\n",
       "      <td>0.999845</td>\n",
       "      <td>0.999834</td>\n",
       "      <td>1.000000</td>\n",
       "      <td>0.999899</td>\n",
       "      <td>0.999899</td>\n",
       "      <td>-0.567007</td>\n",
       "    </tr>\n",
       "    <tr>\n",
       "      <th>Close</th>\n",
       "      <td>0.999745</td>\n",
       "      <td>0.999868</td>\n",
       "      <td>0.999899</td>\n",
       "      <td>1.000000</td>\n",
       "      <td>1.000000</td>\n",
       "      <td>-0.564967</td>\n",
       "    </tr>\n",
       "    <tr>\n",
       "      <th>Adj Close</th>\n",
       "      <td>0.999745</td>\n",
       "      <td>0.999868</td>\n",
       "      <td>0.999899</td>\n",
       "      <td>1.000000</td>\n",
       "      <td>1.000000</td>\n",
       "      <td>-0.564967</td>\n",
       "    </tr>\n",
       "    <tr>\n",
       "      <th>Volume</th>\n",
       "      <td>-0.564258</td>\n",
       "      <td>-0.562749</td>\n",
       "      <td>-0.567007</td>\n",
       "      <td>-0.564967</td>\n",
       "      <td>-0.564967</td>\n",
       "      <td>1.000000</td>\n",
       "    </tr>\n",
       "  </tbody>\n",
       "</table>\n",
       "</div>"
      ],
      "text/plain": [
       "               Open      High       Low     Close  Adj Close    Volume\n",
       "Open       1.000000  0.999904  0.999845  0.999745   0.999745 -0.564258\n",
       "High       0.999904  1.000000  0.999834  0.999868   0.999868 -0.562749\n",
       "Low        0.999845  0.999834  1.000000  0.999899   0.999899 -0.567007\n",
       "Close      0.999745  0.999868  0.999899  1.000000   1.000000 -0.564967\n",
       "Adj Close  0.999745  0.999868  0.999899  1.000000   1.000000 -0.564967\n",
       "Volume    -0.564258 -0.562749 -0.567007 -0.564967  -0.564967  1.000000"
      ]
     },
     "execution_count": 4,
     "metadata": {},
     "output_type": "execute_result"
    }
   ],
   "source": [
    "Google_stock.corr()"
   ]
  },
  {
   "cell_type": "code",
   "execution_count": 8,
   "metadata": {},
   "outputs": [
    {
     "data": {
      "text/plain": [
       "0.9998336413954032"
      ]
     },
     "execution_count": 8,
     "metadata": {},
     "output_type": "execute_result"
    }
   ],
   "source": [
    "Google_stock['High'].corr(Google_stock['Low'])"
   ]
  },
  {
   "cell_type": "markdown",
   "metadata": {},
   "source": [
    "### GROUPBY** \n",
    " - `.groupby()`   "
   ]
  },
  {
   "cell_type": "code",
   "execution_count": 17,
   "metadata": {},
   "outputs": [
    {
     "data": {
      "text/html": [
       "<div>\n",
       "<style scoped>\n",
       "    .dataframe tbody tr th:only-of-type {\n",
       "        vertical-align: middle;\n",
       "    }\n",
       "\n",
       "    .dataframe tbody tr th {\n",
       "        vertical-align: top;\n",
       "    }\n",
       "\n",
       "    .dataframe thead th {\n",
       "        text-align: right;\n",
       "    }\n",
       "</style>\n",
       "<table border=\"1\" class=\"dataframe\">\n",
       "  <thead>\n",
       "    <tr style=\"text-align: right;\">\n",
       "      <th></th>\n",
       "      <th>Year</th>\n",
       "      <th>Name</th>\n",
       "      <th>Department</th>\n",
       "      <th>Age</th>\n",
       "      <th>Salary</th>\n",
       "    </tr>\n",
       "  </thead>\n",
       "  <tbody>\n",
       "    <tr>\n",
       "      <th>0</th>\n",
       "      <td>1990</td>\n",
       "      <td>Alice</td>\n",
       "      <td>HR</td>\n",
       "      <td>25</td>\n",
       "      <td>50000</td>\n",
       "    </tr>\n",
       "    <tr>\n",
       "      <th>1</th>\n",
       "      <td>1990</td>\n",
       "      <td>Bob</td>\n",
       "      <td>RD</td>\n",
       "      <td>30</td>\n",
       "      <td>48000</td>\n",
       "    </tr>\n",
       "    <tr>\n",
       "      <th>2</th>\n",
       "      <td>1990</td>\n",
       "      <td>Charlie</td>\n",
       "      <td>Admin</td>\n",
       "      <td>45</td>\n",
       "      <td>55000</td>\n",
       "    </tr>\n",
       "    <tr>\n",
       "      <th>3</th>\n",
       "      <td>1991</td>\n",
       "      <td>Alice</td>\n",
       "      <td>HR</td>\n",
       "      <td>26</td>\n",
       "      <td>52000</td>\n",
       "    </tr>\n",
       "    <tr>\n",
       "      <th>4</th>\n",
       "      <td>1991</td>\n",
       "      <td>Bob</td>\n",
       "      <td>RD</td>\n",
       "      <td>31</td>\n",
       "      <td>50000</td>\n",
       "    </tr>\n",
       "    <tr>\n",
       "      <th>5</th>\n",
       "      <td>1991</td>\n",
       "      <td>Charlie</td>\n",
       "      <td>Admin</td>\n",
       "      <td>47</td>\n",
       "      <td>60000</td>\n",
       "    </tr>\n",
       "    <tr>\n",
       "      <th>6</th>\n",
       "      <td>1992</td>\n",
       "      <td>Alice</td>\n",
       "      <td>Admin</td>\n",
       "      <td>27</td>\n",
       "      <td>60000</td>\n",
       "    </tr>\n",
       "    <tr>\n",
       "      <th>7</th>\n",
       "      <td>1992</td>\n",
       "      <td>Bob</td>\n",
       "      <td>RD</td>\n",
       "      <td>32</td>\n",
       "      <td>52000</td>\n",
       "    </tr>\n",
       "    <tr>\n",
       "      <th>8</th>\n",
       "      <td>1992</td>\n",
       "      <td>Charlie</td>\n",
       "      <td>Admin</td>\n",
       "      <td>47</td>\n",
       "      <td>62000</td>\n",
       "    </tr>\n",
       "  </tbody>\n",
       "</table>\n",
       "</div>"
      ],
      "text/plain": [
       "   Year     Name Department  Age  Salary\n",
       "0  1990    Alice         HR   25   50000\n",
       "1  1990      Bob         RD   30   48000\n",
       "2  1990  Charlie      Admin   45   55000\n",
       "3  1991    Alice         HR   26   52000\n",
       "4  1991      Bob         RD   31   50000\n",
       "5  1991  Charlie      Admin   47   60000\n",
       "6  1992    Alice      Admin   27   60000\n",
       "7  1992      Bob         RD   32   52000\n",
       "8  1992  Charlie      Admin   47   62000"
      ]
     },
     "execution_count": 17,
     "metadata": {},
     "output_type": "execute_result"
    }
   ],
   "source": [
    "# We load fake Company data in a DataFrame\n",
    "data = pd.read_csv('./fake_company.csv')\n",
    "\n",
    "data"
   ]
  },
  {
   "cell_type": "code",
   "execution_count": 18,
   "metadata": {},
   "outputs": [
    {
     "data": {
      "text/plain": [
       "Year\n",
       "1990    153000\n",
       "1991    162000\n",
       "1992    174000\n",
       "Name: Salary, dtype: int64"
      ]
     },
     "execution_count": 18,
     "metadata": {},
     "output_type": "execute_result"
    }
   ],
   "source": [
    "# We display the total amount of money spent in salaries each year\n",
    "data.groupby(['Year'])['Salary'].sum()"
   ]
  },
  {
   "cell_type": "code",
   "execution_count": 20,
   "metadata": {},
   "outputs": [
    {
     "data": {
      "text/plain": [
       "Year\n",
       "1990    51000\n",
       "1991    54000\n",
       "1992    58000\n",
       "Name: Salary, dtype: int64"
      ]
     },
     "execution_count": 20,
     "metadata": {},
     "output_type": "execute_result"
    }
   ],
   "source": [
    "# We display the average salary per year\n",
    "data.groupby(['Year'])['Salary'].mean()"
   ]
  },
  {
   "cell_type": "code",
   "execution_count": 21,
   "metadata": {},
   "outputs": [
    {
     "data": {
      "text/plain": [
       "Name\n",
       "Alice      162000\n",
       "Bob        150000\n",
       "Charlie    177000\n",
       "Name: Salary, dtype: int64"
      ]
     },
     "execution_count": 21,
     "metadata": {},
     "output_type": "execute_result"
    }
   ],
   "source": [
    "# We display the total salary each employee received in all the years they worked for the company\n",
    "data.groupby(['Name'])['Salary'].sum()"
   ]
  },
  {
   "cell_type": "code",
   "execution_count": 22,
   "metadata": {},
   "outputs": [
    {
     "data": {
      "text/plain": [
       "Year  Department\n",
       "1990  Admin          55000\n",
       "      HR             50000\n",
       "      RD             48000\n",
       "1991  Admin          60000\n",
       "      HR             52000\n",
       "      RD             50000\n",
       "1992  Admin         122000\n",
       "      RD             52000\n",
       "Name: Salary, dtype: int64"
      ]
     },
     "execution_count": 22,
     "metadata": {},
     "output_type": "execute_result"
    }
   ],
   "source": [
    "# We display the salary distribution per department per year.\n",
    "data.groupby(['Year', 'Department'])['Salary'].sum()"
   ]
  },
  {
   "cell_type": "code",
   "execution_count": 23,
   "metadata": {},
   "outputs": [
    {
     "data": {
      "text/plain": [
       "Department  Year\n",
       "Admin       1990     55000\n",
       "            1991     60000\n",
       "            1992    122000\n",
       "HR          1990     50000\n",
       "            1991     52000\n",
       "RD          1990     48000\n",
       "            1991     50000\n",
       "            1992     52000\n",
       "Name: Salary, dtype: int64"
      ]
     },
     "execution_count": 23,
     "metadata": {},
     "output_type": "execute_result"
    }
   ],
   "source": [
    "data.groupby(['Department','Year'])['Salary'].sum()"
   ]
  }
 ],
 "metadata": {
  "kernelspec": {
   "display_name": "conda_python3",
   "language": "python",
   "name": "conda_python3"
  },
  "language_info": {
   "codemirror_mode": {
    "name": "ipython",
    "version": 3
   },
   "file_extension": ".py",
   "mimetype": "text/x-python",
   "name": "python",
   "nbconvert_exporter": "python",
   "pygments_lexer": "ipython3",
   "version": "3.6.5"
  }
 },
 "nbformat": 4,
 "nbformat_minor": 4
}
