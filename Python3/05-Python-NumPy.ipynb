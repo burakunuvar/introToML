{
 "cells": [
  {
   "cell_type": "markdown",
   "metadata": {},
   "source": [
    "## <u> Introduction to NumPy </u>\n",
    "\n",
    "- **NumPy** stands for Numerical Python and it's a fundamental package for scientific computing in Python. NumPy provides Python with an extensive math library capable of performing numerical computations effectively and efficiently. \n",
    "  - build on top of C programming language, which works at a lower level\n",
    "  - has multidimensional array data structures that can represent vectors and matrices.\n",
    "  - has a large number of optimized built-in mathematical functions\n",
    "- When performing operations on large arrays NumPy can often perform several orders of magnitude faster than Python lists. This speed comes from the nature of NumPy arrays being memory-efficient and from optimized algorithms used by NumPy for doing arithmetic, statistical, and linear algebra operations.\n",
    "- NumPy is optimized for matrix operations and it allows us to do Linear Algebra operations effectively and efficiently - making it very suitable for solving machine learning problems.\n",
    "- In fact, NumPy has become so popular that a lot of Python packages, such as Pandas, are built on top of NumPy\n",
    "  "
   ]
  },
  {
   "cell_type": "code",
   "execution_count": null,
   "metadata": {},
   "outputs": [],
   "source": [
    "!conda list numpy"
   ]
  },
  {
   "cell_type": "code",
   "execution_count": null,
   "metadata": {},
   "outputs": [],
   "source": [
    "#how long does it take with Python ?\n",
    "import time \n",
    "start = time.time()\n",
    "numbers_python = []\n",
    "for i in range(int(1e7)):\n",
    "    numbers_python.append(i)\n",
    "print (sum(numbers_python) / len(numbers_python))\n",
    "print(time.time()-start)"
   ]
  },
  {
   "cell_type": "code",
   "execution_count": null,
   "metadata": {},
   "outputs": [],
   "source": [
    "#how long does it take with NumPy ?\n",
    "import time \n",
    "start = time.time()\n",
    "import numpy as np\n",
    "numbers_numpy = np.random.random((int(1e7))) \n",
    "print (np.mean(numbers_numpy))\n",
    "print(time.time()-start)"
   ]
  },
  {
   "cell_type": "markdown",
   "metadata": {},
   "source": [
    "## <u> Creating NumPy ndarrays </u>\n",
    " - `nd` stands for n-dimensional. An ndarray is a multidimensional array of elements all of the same type. In other words, an ndarray is a grid that can take on many shapes and can hold either numbers or strings\n",
    " - There are several ways to create ndarrays in NumPy : \n",
    "     - Using regular Python lists \n",
    "     - Using built-in NumPy functions\n",
    "     \n",
    "### <u> Option 1: Using regular Python lists  </u>\n",
    " - **Reminder!:** `np.array()` is a function that returns an ndarray (it is NOT a class ) \n",
    "\n",
    "```python\n",
    "# We create a 1D ndarray that contains only integers\n",
    "x = np.array([1, 2, 3, 4, 5])\n",
    "```\n",
    "\n",
    "- **NDARRAY ATTRIBUTES** The shape of an array is the size along each of its dimensions. NumPy ndarrays have attributes that allow us to get information \n",
    "  - ` type() ` gives type of the array \n",
    "  - ` .dtype ` provides the type of the elements\n",
    "  - ` .shape ` provides the shape of an ndarray\n",
    "  - ` .size  ` provides the size of an ndarray \n",
    "\n",
    "\n",
    "- **Reminder!:** All the elements of an ndarray must be of the same type! we can't mix types in ndarray (different than Python lists).\n",
    "   \n",
    "```python\n",
    "# We create a rank 1 ndarray from a Python list that contains integers and strings\n",
    "x = np.array([1, 2, 'World'])\n",
    "#stored in memory as Unicode strings of 21 characters\n",
    "```\n",
    "\n",
    "- **RANK:** N-Dimensional arrays have rank N - (1D arrays are referred as rank 1,  2D arrays as a rank 2 arrays ... )\n",
    "\n",
    "```python\n",
    "# We create a rank 2 ndarray that only contains integers\n",
    "Y = np.array([[1,2,3],[4,5,6],[7,8,9], [10,11,12]])\n",
    "# stored in memory as signed 64-bit integers\n",
    "``` \n",
    "\n",
    "- **UPCASTING:** When mixed types are used to build an ndarray; since all the elements of an ndarray must be of the same type, NumPy upcasts the integers to floats in order to avoid losing precision in numerical computations.\n",
    "\n",
    "```python \n",
    "# We create a rank 1 ndarray that contains integers and floats\n",
    "z = np.array([1, 2.5, 4])\n",
    "print('The elements in z are of type:', z.dtype)\n",
    "# stored in memory as signed 64-bit floats\n",
    "```\n",
    "\n",
    "- **Specify the particular dtype** This can be useful in cases when you don't want NumPy to accidentally choose the wrong data type, or when you only need certain amount of precision in your calculations and you want to save memory.\n",
    "\n",
    "```python\n",
    "# We create a rank 1 ndarray of floats but set the dtype to int64\n",
    "x = np.array([1.5, 2.2, 3.7, 4.0, 5.9], dtype = np.int64)\n",
    "```\n",
    "\n",
    "- **SAVE TO FILE** Once you create an ndarray, you may want to save it to a file to be read later or to be used by another program by `save()` You can load the saved ndarray into a variable by using the `load()` function.\n",
    "\n",
    "\n",
    "```python \n",
    "# We create a rank 1 ndarray\n",
    "x = np.array([1, 2, 3, 4, 5])\n",
    "\n",
    "# We save x into the current directory as \n",
    "np.save('my_array', x)\n",
    "```"
   ]
  },
  {
   "cell_type": "code",
   "execution_count": 6,
   "metadata": {},
   "outputs": [
    {
     "name": "stdout",
     "output_type": "stream",
     "text": [
      "x =  [1 2 3 4 5]\n",
      "y =  ['a' 'b' 'c' 'd' 'e']\n",
      "x has dimensions: (5,)\n",
      "x is an object of type: <class 'numpy.ndarray'>\n",
      "The elements in x are of type: int64\n"
     ]
    }
   ],
   "source": [
    "# We create a 1D ndarray that contains only integers\n",
    "import numpy as np\n",
    "x = np.array([1, 2, 3, 4, 5])\n",
    "y = np.array(['a', 'b', 'c', 'd', 'e'])\n",
    "# print x\n",
    "print('x = ', x)\n",
    "print('y = ', y)\n",
    "# We print information about x\n",
    "print('x has dimensions:', x.shape)\n",
    "print('x is an object of type:', type(x))\n",
    "print('The elements in x are of type:', x.dtype)\n",
    "#stored in memory as signed 64-bit integers"
   ]
  },
  {
   "cell_type": "code",
   "execution_count": 7,
   "metadata": {},
   "outputs": [
    {
     "name": "stdout",
     "output_type": "stream",
     "text": [
      "x =  ['Hello' 'World']\n",
      "x has dimensions: (2,)\n",
      "x is an object of type: <class 'numpy.ndarray'>\n",
      "The elements in x are of type: <U5\n"
     ]
    }
   ],
   "source": [
    "# We create a rank 1 ndarray that only contains strings\n",
    "x = np.array(['Hello', 'World'])\n",
    "\n",
    "# We print x\n",
    "print('x = ', x)\n",
    "# We print information about x\n",
    "print('x has dimensions:', x.shape)\n",
    "print('x is an object of type:', type(x))\n",
    "print('The elements in x are of type:', x.dtype)\n",
    "#stored in memory as Unicode strings of 5 characters"
   ]
  },
  {
   "cell_type": "code",
   "execution_count": 8,
   "metadata": {},
   "outputs": [
    {
     "name": "stdout",
     "output_type": "stream",
     "text": [
      "\n",
      "x =  ['1' '2' 'World']\n",
      "\n",
      "x has dimensions: (3,)\n",
      "x is an object of type: <class 'numpy.ndarray'>\n",
      "The elements in x are of type: <U21\n"
     ]
    }
   ],
   "source": [
    "# We create a rank 1 ndarray from a Python list that contains integers and strings\n",
    "x = np.array([1, 2, 'World'])\n",
    "\n",
    "# We print the ndarray\n",
    "print()\n",
    "print('x = ', x)\n",
    "print()\n",
    "\n",
    "# We print information about x\n",
    "print('x has dimensions:', x.shape)\n",
    "print('x is an object of type:', type(x))\n",
    "print('The elements in x are of type:', x.dtype)\n",
    "#stored in memory as Unicode strings of 21 characters"
   ]
  },
  {
   "cell_type": "code",
   "execution_count": 9,
   "metadata": {},
   "outputs": [
    {
     "name": "stdout",
     "output_type": "stream",
     "text": [
      "Y = \n",
      " [[ 1  2  3]\n",
      " [ 4  5  6]\n",
      " [ 7  8  9]\n",
      " [10 11 12]]\n",
      "Y has dimensions: (4, 3)\n",
      "Y has a total of 12 elements\n",
      "Y is an object of type: <class 'numpy.ndarray'>\n",
      "The elements in Y are of type: int64\n"
     ]
    }
   ],
   "source": [
    "# We create a rank 2 ndarray that only contains integers\n",
    "Y = np.array([[1,2,3],[4,5,6],[7,8,9], [10,11,12]])\n",
    "\n",
    "# We print Y\n",
    "print('Y = \\n', Y)\n",
    "\n",
    "# We print information about Y\n",
    "print('Y has dimensions:', Y.shape)\n",
    "print('Y has a total of', Y.size, 'elements')\n",
    "print('Y is an object of type:', type(Y))\n",
    "print('The elements in Y are of type:', Y.dtype)\n",
    "# stored in memory as signed 64-bit integers"
   ]
  },
  {
   "cell_type": "code",
   "execution_count": 11,
   "metadata": {},
   "outputs": [
    {
     "name": "stdout",
     "output_type": "stream",
     "text": [
      "The elements in x are of type: int64\n",
      "The elements in y are of type: float64\n",
      "The elements in z are of type: float64\n"
     ]
    }
   ],
   "source": [
    "# UPCASTING\n",
    "#We create a rank 1 ndarray that contains integers\n",
    "x = np.array([1,2,3])\n",
    "\n",
    "# We create a rank 1 ndarray that contains floats\n",
    "y = np.array([1.0,2.0,3.0])\n",
    "\n",
    "# We create a rank 1 ndarray that contains integers and floats\n",
    "z = np.array([1, 2.5, 4])\n",
    "\n",
    "# We print the dtype of each ndarray\n",
    "print('The elements in x are of type:', x.dtype)\n",
    "# stored in memory as signed 64-bit ints\n",
    "print('The elements in y are of type:', y.dtype)\n",
    "# stored in memory as signed 64-bit floats\n",
    "print('The elements in z are of type:', z.dtype)\n",
    "# stored in memory as signed 64-bit floats"
   ]
  },
  {
   "cell_type": "code",
   "execution_count": null,
   "metadata": {},
   "outputs": [],
   "source": [
    "# specify particular dtype\n",
    "# We create a rank 1 ndarray of floats but set the dtype to int64\n",
    "x = np.array([1.5, 2.2, 3.7, 4.0, 5.9], dtype = np.int64)\n",
    "\n",
    "# We print x\n",
    "print()\n",
    "print('x = ', x)\n",
    "print()\n",
    "\n",
    "# We print the dtype x\n",
    "print('The elements in x are of type:', x.dtype)"
   ]
  },
  {
   "cell_type": "code",
   "execution_count": null,
   "metadata": {},
   "outputs": [],
   "source": [
    "# Save to File\n",
    "We create a rank 1 ndarray\n",
    "x = np.array([1, 2, 3, 4, 5])\n",
    "\n",
    "# We save x into the current directory as \n",
    "np.save('my_array', x)\n",
    "\n",
    "# We load the saved array from our current directory into variable y\n",
    "# When loading an array from a file, make sure you include the name of the file together with the extension .npy, otherwise you will get an error. \n",
    "y = np.load('my_array.npy')\n",
    "\n",
    "# We print y\n",
    "print()\n",
    "print('y = ', y)\n",
    "print()\n",
    "\n",
    "# We print information about the ndarray we loaded\n",
    "print('y is an object of type:', type(y))\n",
    "print('The elements in y are of type:', y.dtype)"
   ]
  },
  {
   "cell_type": "markdown",
   "metadata": {},
   "source": [
    "### <u> Option 2: Using built-in NumPy functions </u>\n",
    "\n",
    "  - **np.zeros((num_rows,num_columns))** and **np.ones((num_rows,num_columns))**\n",
    "    - **`X = np.zeros((3,4)),dtype=int` `X = np.ones((4,5))`**\n",
    "    - creates an array with dtype float64 by default \n",
    "    - the data type can be changed by using the keyword `dtype`\n",
    "    \n",
    "    \n",
    "  - **np.full(shape, constant value)**\n",
    "    - **`X = np.full((2,3), 5)`**\n",
    "    - creates an array with the same data type as the constant value by default  \n",
    "    - the data type can be changed by using the keyword `dtype`\n",
    "    \n",
    "    \n",
    "  - **Identity Matrix** by **np.eye(N)** \n",
    "     - **`X = np.eye(5)`**\n",
    "     - is a square matrix that has only 1s in its main diagonal and zeros everywhere else\n",
    "     - creates an array with the same data type as the constant value by default  \n",
    "     - the data type can be changed by using the keyword `dtype`  \n",
    "     \n",
    "     \n",
    "  - **A diagonal matrix** by **np.diag()** \n",
    "     - **`X = np.diag([10,20,30,50])`**\n",
    "     - is a square matrix that only has values in its main diagonal.\n",
    "     \n",
    "     \n",
    "  - **Range for evenly spaced values** by **np.arange(start,stop,step)**\n",
    "     - to create a rank 1 ndarray `x = np.arange(10)` =>0 to 10, 10 exclusive \n",
    "     - for evenly spaced values within the half-open interval `x = np.arange(4,10)` =>4 to 10, 10 exclusive \n",
    "     - for step being the distance between two adjacent values. `x= np.arange(1,14,3)`\n",
    "     - allows for non-integer steps but the output is inconsistent, due to the finite floating point precision\n",
    "     \n",
    "     \n",
    "  - **Range for non-integer steps** by **np.linspace(start, stop, N)**\n",
    "     - both the start and thestop values are included.\n",
    "     - default number of elements in the specified interval will be N= 50.\n",
    "     - uses the number of elements we want in a particular interval, instead of the step between values\n",
    "     - **`x = np.linspace(0,25,10)`** vs **`x = np.linspace(0,25,10,endpoint=False)`**  \n",
    "     \n",
    "     \n",
    "  - **Rank-2 ndarrays of any shape** by **np.reshape(ndarray, new_shape)** and **ndarray.reshape(new_shape)**\n",
    "     - converts the given ndarray into the specified new_shape\n",
    "     - should be compatible with the number of elements **`x = np.arange(20) x = np.reshape(x, (4,5))`**\n",
    "     - **HINT! :** some functions can also be applied as methods. **`Y = np.arange(20).reshape(4, 5)`**\n",
    "     - should be compatible with the number of elements in ndarray, no need to pass the ndarray as an argument\n",
    "     - **``X = np.linspace(0,50,10, endpoint=False).reshape(5,2)``**\n",
    "     \n",
    "     \n",
    "  - **Random Numbers** by **np.random.random(shape)** and **`np.random.randint(start, stop, size = shape)`**\n",
    "  \n",
    "     - to create random matrices, for example, when initializing the weights of a Neural Network\n",
    "    \n",
    "     - N x N ndarray with random floats in the half-open interval 0.0, 1.0 `X = np.random.random((3,3))`\n",
    "     \n",
    "     - N x N ndarray with random integers in the half-open interval `X = np.random.randint(4,15,size=(3,2))`\n",
    "     \n",
    "     - **np.random.normal(mean, standard deviation, size=shape)** :\n",
    "        - create random ndarrays with numbers drawn from various probability distributions\n",
    "        - creates an ndarray with the given shape that contains random numbers picked from a normal (Gaussian)  \n",
    "          distribution with the given mean and standard deviation.`X = np.random.normal(0, 0.1, size=(1000,1000))` \n",
    "     "
   ]
  },
  {
   "cell_type": "code",
   "execution_count": 19,
   "metadata": {},
   "outputs": [
    {
     "name": "stdout",
     "output_type": "stream",
     "text": [
      "[ 0.          2.77777778  5.55555556  8.33333333 11.11111111 13.88888889\n",
      " 16.66666667 19.44444444 22.22222222 25.        ]\n",
      "[ 0.   2.5  5.   7.5 10.  12.5 15.  17.5 20.  22.5 25. ]\n",
      "[ 0.   2.5  5.   7.5 10.  12.5 15.  17.5 20.  22.5]\n"
     ]
    }
   ],
   "source": [
    "x = np.linspace(0,25,10)\n",
    "print(x)\n",
    "y = np.linspace(0,2511)\n",
    "print(y)\n",
    "z = np.linspace(0,25,10,endpoint=False)\n",
    "print(z)"
   ]
  },
  {
   "cell_type": "code",
   "execution_count": 20,
   "metadata": {},
   "outputs": [
    {
     "data": {
      "text/plain": [
       "array([[ 0.,  5.],\n",
       "       [10., 15.],\n",
       "       [20., 25.],\n",
       "       [30., 35.],\n",
       "       [40., 45.]])"
      ]
     },
     "execution_count": 20,
     "metadata": {},
     "output_type": "execute_result"
    }
   ],
   "source": [
    "X = np.linspace(0,50,10, endpoint=False).reshape(5,2)\n",
    "X"
   ]
  },
  {
   "cell_type": "code",
   "execution_count": 23,
   "metadata": {
    "scrolled": true
   },
   "outputs": [
    {
     "data": {
      "text/plain": [
       "array([[13, 15, 21, 19, 21],\n",
       "       [22, 21, 22, 13, 24],\n",
       "       [19, 19, 11, 21, 23],\n",
       "       [16, 17, 21, 15, 20]])"
      ]
     },
     "execution_count": 23,
     "metadata": {},
     "output_type": "execute_result"
    }
   ],
   "source": [
    "X = np.random.random((3,3))\n",
    "X\n",
    "Y = np.random.randint(10,25,size=(4,5))\n",
    "Y"
   ]
  },
  {
   "cell_type": "code",
   "execution_count": 34,
   "metadata": {},
   "outputs": [
    {
     "data": {
      "text/plain": [
       "array([[10.14045902, 10.12094925, 10.05414653],\n",
       "       [ 9.94263963,  9.98389301,  9.95529527],\n",
       "       [10.00604918,  9.82365626,  9.78899877]])"
      ]
     },
     "execution_count": 34,
     "metadata": {},
     "output_type": "execute_result"
    }
   ],
   "source": [
    "N = np.random.normal(10, 0.1, size=(3,3))\n",
    "N"
   ]
  },
  {
   "cell_type": "markdown",
   "metadata": {},
   "source": [
    "## <u> Accessing, Deleting, and Inserting Elements Into ndarrays </u>\n",
    "\n",
    "- **Accessing**\n",
    "  - Elements can be accessed using indices inside square brackets, `[]`\n",
    "\n",
    "```python\n",
    "# We create a rank 1 ndarray that contains integers from 1 to 5\n",
    "x = np.array([1, 2, 3, 4, 5])\n",
    "x[3] = 20\n",
    "\n",
    "# We create a 3 x 3 rank 2 ndarray that contains integers from 1 to 9\n",
    "X = np.array([[1,2,3],[4,5,6],[7,8,9]])\n",
    "X[0,0] = 20\n",
    "```\n",
    "\n",
    "\n",
    "- **Deleting** by **`np.delete(ndarray, elements, axis)`**\n",
    "  - For rank 1 ndarrays the axis keyword is not required.\n",
    "  - For rank 2 ndarrays, axis = 0 is used to select rows, and axis = 1 is used to select columns\n",
    "\n",
    "```python\n",
    "# We delete the first and last element of x\n",
    "x = np.delete(x, [0,4])\n",
    "\n",
    "# We delete the first row of y\n",
    "w = np.delete(Y, 0, axis=0)\n",
    "\n",
    "# We delete the first and last column of y\n",
    "v = np.delete(Y, [0,2], axis=1)\n",
    "```\n",
    "\n",
    "\n",
    "- **Appending** by **`np.append(ndarray, elements, axis)`**\n",
    "\n",
    "  - for rank 2 ndarrays the rows or columns must have the correct shape\n",
    "\n",
    "\n",
    "- **Inserting** by **`np.insert(ndarray, index, elements, axis)`**\n",
    "  - This function inserts the given list of elements to ndarray right before the given index along the specified axis\n",
    "\n",
    "\n",
    "- **Stack ndarrays** by **`np.vstack()`** and **`np.hstack()`**\n",
    "  - stack ndarrays on top of each other, or to stack them side by side\n",
    "  - the shape of the ndarrays must match\n"
   ]
  },
  {
   "cell_type": "code",
   "execution_count": null,
   "metadata": {},
   "outputs": [],
   "source": [
    "# We create a rank 1 ndarray that contains integers from 1 to 5\n",
    "x = np.array([1, 2, 3, 4, 5])\n",
    "print('This is Fifth (Last) Element in x:', x[4])\n",
    "print('This is Second Element in x:', x[-4])\n",
    "print('This is Fifth (Last) Element in x:', x[-1])\n",
    "# We change the fourth element in x from 4 to 20\n",
    "x[3] = 20\n",
    "\n",
    "# We create a 3 x 3 rank 2 ndarray that contains integers from 1 to 9\n",
    "X = np.array([[1,2,3],[4,5,6],[7,8,9]])\n",
    "print('This is (0,0) Element in X:', X[0,0])\n",
    "print('This is (0,1) Element in X:', X[0,1])\n",
    "print('This is (2,2) Element in X:', X[2,2])\n",
    "X[0,0] = 20"
   ]
  },
  {
   "cell_type": "code",
   "execution_count": null,
   "metadata": {},
   "outputs": [],
   "source": [
    "#Appending\n",
    "\n",
    "x = np.array([1, 2, 3, 4, 5])\n",
    "Y = np.array([[1,2,3],[4,5,6]])\n",
    "x = np.append(x, [7,8])\n",
    "\n",
    "# We append a new row containing 7,8,9 to y\n",
    "v = np.append(Y, [[7,8,9]], axis=0)\n",
    "# We append a new column containing 9 and 10 to y\n",
    "q = np.append(Y,[[9],[10]], axis=1"
   ]
  },
  {
   "cell_type": "code",
   "execution_count": null,
   "metadata": {},
   "outputs": [],
   "source": [
    "#Inserting\n",
    "\n",
    "x = np.array([1, 2, 5, 6, 7])\n",
    "Y = np.array([[1,2,3],[7,8,9]])\n",
    "\n",
    "# We insert the integer 3 and 4 between 2 and 5 in x. \n",
    "x = np.insert(x,2,[3,4])\n",
    "# We insert a row between the first and last row of y\n",
    "w = np.insert(Y,1,[4,5,6],axis=0)\n",
    "# We insert a column full of 5s between the first and second column of y\n",
    "v = np.insert(Y,1,5, axis=1"
   ]
  },
  {
   "cell_type": "code",
   "execution_count": null,
   "metadata": {},
   "outputs": [],
   "source": [
    "#Stacking \n",
    "x = np.array([1,2])\n",
    "Y = np.array([[3,4],[5,6]])\n",
    "\n",
    "# We stack x on top of Y\n",
    "z = np.vstack((x,Y))\n",
    "\n",
    "# We stack x on the right of Y. We need to reshape x in order to stack it on the right of Y. \n",
    "w = np.hstack((Y,x.reshape(2,1)))\n"
   ]
  },
  {
   "cell_type": "markdown",
   "metadata": {},
   "source": [
    "## <u>  Slicing ndarrays </u>\n",
    "\n",
    "- NumPy ndarrays can also be sliced, which means that ndarrays can be split in many different ways. Often in Machine Learning you will use slicing to separate data, as for example when dividing a data set into training, cross validation, and testing sets\n",
    "- In general there're 3 types of slicing \n",
    "\n",
    "    **1. `ndarray[start:end]`** select elements between the start and end indices \n",
    "    \n",
    "    **2. `ndarray[start:]`** select all elements from the start index till the last index\n",
    "    \n",
    "    **3. `ndarray[:end]`** select all elements from the first index till the end index\n",
    "    \n",
    "    -  the end index is excluded\n",
    "    -  ndarrays can be multidimensional\n",
    "    \n",
    "\n",
    "- **Reminder!** It is important to note that when we perform slices on ndarrays and save them into new variables, as we did above, the data is not copied into the new variable\n",
    "\n",
    "```python \n",
    "# if we make changes to Z, X changes as well\n",
    "Z[2,2] = 555\n",
    "#Because they've the same pointer to memory location\n",
    "```\n",
    "\n",
    "- **Copying ndarray** by **`np.copy(ndarray)`**\n",
    "   - Creates new ndarrays that are completely independent of each other.\n",
    "   - This function can also be used as a method, in the same way as with the reshape function.\n",
    "   \n",
    "```python\n",
    "# create a copy of the slice using the np.copy() function\n",
    "Z = np.copy(X[1:4,2:5])\n",
    "\n",
    "#  create a copy of the slice using the copy as a method\n",
    "W = X[1:4,2:5].copy()\n",
    "\n",
    "# Now they've different pointers so an update on one doesn't affect another. \n",
    "```\n",
    "\n",
    "- **Using an ndarray to make slices** \n",
    "\n",
    "```python\n",
    "\n",
    "indices = np.array([1,3])\n",
    "# We use the indices ndarray to select the 2nd and 4th row of X\n",
    "Y = X[indices,:]\n",
    "\n",
    "# We use the indices ndarray to select the 2nd and 4th column of X\n",
    "Z = X[:, indices]\n",
    "```\n",
    "\n",
    "- **Using built-in functions** \n",
    "\n",
    "  - `np.diag(ndarray, k=N)` function extracts the elements along the diagonal defined by N. As default is k=0, which refers to the main diagonal. Values of k > 0 are used to select elements in diagonals above the main diagonal, and values of k < 0 are used to select elements in diagonals below the main diagonal.\n",
    "\n",
    "  - `np.unique(ndarray)` function extracts only the unique elemtns in an ndarray.\n",
    "  \n",
    "```python\n",
    "\n",
    "X = np.array([[1,2,3],[5,2,8],[1,2,3]])\n",
    "print('The unique elements in X are:',np.unique(X))\n",
    "\n",
    "```"
   ]
  },
  {
   "cell_type": "code",
   "execution_count": 3,
   "metadata": {},
   "outputs": [],
   "source": [
    "import numpy as np \n",
    "X = np.arange(20).reshape(4, 5)\n",
    "# We select all the elements that are in the 2nd through 4th rows and in the 3rd to 5th columns\n",
    "Z = X[1:4,2:5]\n",
    "# We can select the same elements as above using method 2\n",
    "W = X[1:,2:5]\n",
    "# We select all the elements that are in the 1st through 3rd rows and in the 3rd to 4th columns\n",
    "Y = X[:3,2:5]\n",
    "# We select all the elements in the 3rd row\n",
    "v = X[2,:]\n",
    "# We select all the elements in the 3rd column\n",
    "q = X[:,2]\n",
    "# We select all the elements in the 3rd column but return a rank 2 ndarray\n",
    "R = X[:,2:3]"
   ]
  },
  {
   "cell_type": "code",
   "execution_count": 10,
   "metadata": {},
   "outputs": [
    {
     "name": "stdout",
     "output_type": "stream",
     "text": [
      "z = [ 0  6 12 18 24]\n",
      "y = [ 1  7 13 19]\n",
      "w =  [ 5 11 17 23]\n"
     ]
    }
   ],
   "source": [
    "#np.diag(ndarray, k=N)\n",
    "X = np.arange(25).reshape(5, 5)\n",
    "# the elements in the main diagonal of X\n",
    "print('z =', np.diag(X))\n",
    "\n",
    "# the elements above the main diagonal of X\n",
    "print('y =', np.diag(X, k=1))\n",
    "\n",
    "# the elements below the main diagonal of X\n",
    "print('w = ', np.diag(X, k=-1))\n"
   ]
  },
  {
   "cell_type": "markdown",
   "metadata": {},
   "source": [
    "## <u> Boolean Indexing, Set Operations, and Sorting </u> \n",
    "\n",
    " - **Boolean Indexing** \n",
    "     - Used for situations where we don't know the indices of the elements we want to select\n",
    "     - allowing us select elements using logical arguments instead of explicit indices\n",
    "\n",
    "- **Set operations**\n",
    "    - useful when comparing ndarrays, for example, to find common elements between two ndarrays\n",
    "    - `np.intersect1d(x,y))`, `np.setdiff1d(x,y))`, `np.union1d(x,y))` are some of most frequently used examples. \n",
    "    \n",
    "    \n",
    "- **Sorting**\n",
    "   - `np.sort() as function` sorts the ndrrays out of place and doesn't change the original ndarray being sorted.\n",
    "   - `ndarray.sort() as method` sorts the ndarray in place and the original array will be changed to the sorted one.\n",
    "   - `np.sort(np.unique(x))` sorts only the unique elements in x by combining the sort function with the unique\n",
    "   -  **sorting rank 2 ndarrays** specify whether to sort by rows or columns by using the `axis keyword` "
   ]
  },
  {
   "cell_type": "code",
   "execution_count": null,
   "metadata": {},
   "outputs": [],
   "source": [
    "# We create a 5 x 5 ndarray that contains integers from 0 to 24\n",
    "X = np.arange(25).reshape(5, 5)\n",
    "# We use Boolean indexing to select elements in X:\n",
    "print('The elements in X that are greater than 10:', X[X > 10])\n",
    "print('The elements in X that less than or equal to 7:', X[X <= 7])\n",
    "print('The elements in X that are between 10 and 17:', X[(X > 10) & (X < 17)])\n",
    "# We use Boolean indexing to assign the elements that are between 10 and 17 the value of -1\n",
    "X[(X > 10) & (X < 17)] = -1\n",
    "# We print X\n",
    "print('X = \\n', X)"
   ]
  },
  {
   "cell_type": "code",
   "execution_count": null,
   "metadata": {},
   "outputs": [],
   "source": [
    "# We create a rank 1 ndarray\n",
    "x = np.array([1,2,3,4,5])\n",
    "# We create a rank 1 ndarray\n",
    "y = np.array([6,7,2,8,4])\n",
    "# We use set operations to compare x and y:\n",
    "print('The elements that are both in x and y:', np.intersect1d(x,y))\n",
    "print('The elements that are in x that are not in y:', np.setdiff1d(x,y))\n",
    "print('All the elements of x and y:',np.union1d(x,y))"
   ]
  },
  {
   "cell_type": "code",
   "execution_count": null,
   "metadata": {},
   "outputs": [],
   "source": [
    "# We create an unsorted rank 1 ndarray\n",
    "x = np.random.randint(1,11,size=(10,))\n",
    "\n",
    "# We sort x and print the sorted array using sort as a function.\n",
    "print('Sorted x (out of place):', np.sort(x))\n",
    "\n",
    "# When we sort out of place the original array remains intact. \n",
    "print()\n",
    "print('x after sorting:', x)\n",
    "\n",
    "# We sort x but only keep the unique elements in x\n",
    "print(np.sort(np.unique(x)))\n",
    "\n",
    "# We sort x and print the sorted array using sort as a method.\n",
    "x.sort()\n",
    "\n",
    "# When we sort in place the original array is changed to the sorted array. To see this we print x again\n",
    "print()\n",
    "print('x after sorting:', x)"
   ]
  },
  {
   "cell_type": "code",
   "execution_count": null,
   "metadata": {},
   "outputs": [],
   "source": [
    "# We create an unsorted rank 2 ndarray\n",
    "X = np.random.randint(1,11,size=(5,5))\n",
    "\n",
    "# We sort the columns of X and print the sorted array\n",
    "print('X with sorted columns :\\n', np.sort(X, axis = 0))\n",
    "\n",
    "# We sort the rows of X and print the sorted array\n",
    "print('X with sorted rows :\\n', np.sort(X, axis = 1))"
   ]
  },
  {
   "cell_type": "markdown",
   "metadata": {},
   "source": [
    "## <u> Arithmetic operations and Broadcasting </u> \n",
    "\n",
    "  - NumPy allows element-wise operations on ndarrays as well as matrix operations\n",
    "  - In order to do element-wise operations, NumPy sometimes uses something called Broadcasting. \n",
    "  - Broadcasting is the term used to describe how NumPy handles element-wise arithmetic operations with ndarrays of different shapes. For example, broadcasting is used implicitly when doing arithmetic operations between scalars and ndarrays. \n",
    "  - When performing element-wise operations, the shapes of the ndarrays being operated on, must have the same shape or be broadcastable. \n",
    "\n",
    "```Python \n",
    "# We create two rank 1 ndarrays\n",
    "x = np.array([1,2,3,4])\n",
    "y = np.array([5.5,6.5,7.5,8.5])\n",
    "# We perfrom basic element-wise operations using arithmetic symbols and functions\n",
    "print('x + y = ', x + y)\n",
    "# If you use the function approach, the functions usually have options that you can tweak using keywords\n",
    "print('add(x,y) = ', np.add(x,y))\n",
    "```\n",
    "\n",
    "- We can also perform the same element-wise arithmetic operations on rank 2 ndarrays. Again, remember that in order to do these operations the shapes of the ndarrays being operated on, must have the same shape or be broadcastable.\n",
    "\n",
    "```python\n",
    "# We create two rank 2 ndarrays\n",
    "X = np.array([1,2,3,4]).reshape(2,2)\n",
    "Y = np.array([5.5,6.5,7.5,8.5]).reshape(2,2)\n",
    "# We perform basic element-wise operations using arithmetic symbols and functions\n",
    "print('X + Y = \\n', X + Y)\n",
    "print('add(X,Y) = \\n', np.add(X,Y))\n",
    "```\n",
    "\n",
    "- We can also apply mathematical functions : \n",
    "  - `print('EXP(x) =', np.exp(x))`\n",
    "  - `print('SQRT(x) =',np.sqrt(x))`\n",
    "  - `print('POW(x,2) =',np.power(x,2))`\n",
    "  \n",
    "- NumPy has a wide variety of statistical functions\n",
    "\n",
    "```python\n",
    "# We create a 2 x 2 ndarray\n",
    "X = np.array([[1,2], [3,4]])\n",
    "print('Average of all elements in X:', X.mean())\n",
    "print('Sum of all elements in X:', X.sum())\n",
    "print('Standard Deviation of all elements in X:', X.std())\n",
    "print('Median of all elements in X:', np.median(X))\n",
    "print('Maximum value of all elements in X:', X.max())\n",
    "print('Minimum value of all elements in X:', X.min())\n",
    "```\n",
    "\n",
    "- NumPy can add single numbers to all the elements of an ndarray without the use of complicated loops.\n",
    "- It works behind the scenes to broadcast the number along the ndarray so that they have the same shape\n",
    "\n",
    "```python \n",
    "\n",
    "# We create a 2 x 2 ndarray\n",
    "X = np.array([[1,2], [3,4]])\n",
    "\n",
    "print('3 * X = \\n', 3 * X)\n",
    "print('3 + X = \\n', 3 + X)\n",
    "print('X - 3 = \\n', X - 3)\n",
    "print('X / 3 = \\n', X / 3)\n",
    "```\n",
    "\n",
    "- Subject to certain constraints, Numpy can do the same for two ndarrays of different shapes\n",
    "- NumPy is able to add 1 x N and N x 1 ndarrays to N x N ndarrays by broadcasting the smaller ndarrays along the big ndarray so that they have compatible shapes. In general, NumPy can do this provided that the smaller ndarray, such as the 1 x N ndarray can be expanded to the shape of the larger ndarray in such a way that the resulting broadcast is unambiguous.\n"
   ]
  },
  {
   "cell_type": "code",
   "execution_count": 11,
   "metadata": {},
   "outputs": [
    {
     "name": "stdout",
     "output_type": "stream",
     "text": [
      "x + y =  [ 6.5  8.5 10.5 12.5]\n",
      "x - y =  [-4.5 -4.5 -4.5 -4.5]\n",
      "x * y =  [ 5.5 13.  22.5 34. ]\n",
      "x / y =  [0.18181818 0.30769231 0.4        0.47058824]\n",
      "add(x,y) =  [ 6.5  8.5 10.5 12.5]\n",
      "subtract(x,y) =  [-4.5 -4.5 -4.5 -4.5]\n",
      "multiply(x,y) =  [ 5.5 13.  22.5 34. ]\n",
      "divide(x,y) =  [0.18181818 0.30769231 0.4        0.47058824]\n"
     ]
    }
   ],
   "source": [
    "# We create two rank 1 ndarrays\n",
    "x = np.array([1,2,3,4])\n",
    "y = np.array([5.5,6.5,7.5,8.5])\n",
    "# We perfrom basic element-wise operations using arithmetic symbols and functions\n",
    "print('x + y = ', x + y)\n",
    "print('x - y = ', x - y)\n",
    "print('x * y = ', x * y)\n",
    "print('x / y = ', x / y)\n",
    "# If you use the function approach, the functions usually have options that you can tweak using keywords\n",
    "print('add(x,y) = ', np.add(x,y))\n",
    "print('subtract(x,y) = ', np.subtract(x,y))\n",
    "print('multiply(x,y) = ', np.multiply(x,y))\n",
    "print('divide(x,y) = ', np.divide(x,y))"
   ]
  },
  {
   "cell_type": "code",
   "execution_count": 12,
   "metadata": {},
   "outputs": [
    {
     "name": "stdout",
     "output_type": "stream",
     "text": [
      "X + Y = \n",
      " [[ 6.5  8.5]\n",
      " [10.5 12.5]]\n",
      "X - Y = \n",
      " [[-4.5 -4.5]\n",
      " [-4.5 -4.5]]\n",
      "X * Y = \n",
      " [[ 5.5 13. ]\n",
      " [22.5 34. ]]\n",
      "X / Y = \n",
      " [[0.18181818 0.30769231]\n",
      " [0.4        0.47058824]]\n",
      "add(X,Y) = \n",
      " [[ 6.5  8.5]\n",
      " [10.5 12.5]]\n",
      "subtract(X,Y) = \n",
      " [[-4.5 -4.5]\n",
      " [-4.5 -4.5]]\n",
      "multiply(X,Y) = \n",
      " [[ 5.5 13. ]\n",
      " [22.5 34. ]]\n",
      "divide(X,Y) = \n",
      " [[0.18181818 0.30769231]\n",
      " [0.4        0.47058824]]\n"
     ]
    }
   ],
   "source": [
    "# We create two rank 2 ndarrays\n",
    "X = np.array([1,2,3,4]).reshape(2,2)\n",
    "Y = np.array([5.5,6.5,7.5,8.5]).reshape(2,2)\n",
    "\n",
    "# We perform basic element-wise operations using arithmetic symbols and functions\n",
    "print('X + Y = \\n', X + Y)\n",
    "print('X - Y = \\n', X - Y)\n",
    "print('X * Y = \\n', X * Y)\n",
    "print('X / Y = \\n', X / Y)\n",
    "\n",
    "print('add(X,Y) = \\n', np.add(X,Y))\n",
    "print('subtract(X,Y) = \\n', np.subtract(X,Y))\n",
    "print('multiply(X,Y) = \\n', np.multiply(X,Y))\n",
    "print('divide(X,Y) = \\n', np.divide(X,Y))"
   ]
  },
  {
   "cell_type": "code",
   "execution_count": 13,
   "metadata": {},
   "outputs": [
    {
     "name": "stdout",
     "output_type": "stream",
     "text": [
      "Average of all elements in X: 2.5\n",
      "Average of all elements in the columns of X: [2. 3.]\n",
      "Average of all elements in the rows of X: [1.5 3.5]\n",
      "Sum of all elements in X: 10\n",
      "Sum of all elements in the columns of X: [4 6]\n",
      "Sum of all elements in the rows of X: [3 7]\n",
      "Standard Deviation of all elements in X: 1.118033988749895\n",
      "Standard Deviation of all elements in the columns of X: [1. 1.]\n",
      "Standard Deviation of all elements in the rows of X: [0.5 0.5]\n",
      "Median of all elements in X: 2.5\n",
      "Median of all elements in the columns of X: [2. 3.]\n",
      "Median of all elements in the rows of X: [1.5 3.5]\n",
      "Maximum value of all elements in X: 4\n",
      "Maximum value of all elements in the columns of X: [3 4]\n",
      "Maximum value of all elements in the rows of X: [2 4]\n",
      "Minimum value of all elements in X: 1\n",
      "Minimum value of all elements in the columns of X: [1 2]\n",
      "Minimum value of all elements in the rows of X: [1 3]\n"
     ]
    }
   ],
   "source": [
    "# We create a 2 x 2 ndarray\n",
    "X = np.array([[1,2], [3,4]])\n",
    "print('Average of all elements in X:', X.mean())\n",
    "print('Average of all elements in the columns of X:', X.mean(axis=0))\n",
    "print('Average of all elements in the rows of X:', X.mean(axis=1))\n",
    "\n",
    "print('Sum of all elements in X:', X.sum())\n",
    "print('Sum of all elements in the columns of X:', X.sum(axis=0))\n",
    "print('Sum of all elements in the rows of X:', X.sum(axis=1))\n",
    "\n",
    "print('Standard Deviation of all elements in X:', X.std())\n",
    "print('Standard Deviation of all elements in the columns of X:', X.std(axis=0))\n",
    "print('Standard Deviation of all elements in the rows of X:', X.std(axis=1))\n",
    "\n",
    "print('Median of all elements in X:', np.median(X))\n",
    "print('Median of all elements in the columns of X:', np.median(X,axis=0))\n",
    "print('Median of all elements in the rows of X:', np.median(X,axis=1))\n",
    "\n",
    "print('Maximum value of all elements in X:', X.max())\n",
    "print('Maximum value of all elements in the columns of X:', X.max(axis=0))\n",
    "print('Maximum value of all elements in the rows of X:', X.max(axis=1))\n",
    "\n",
    "print('Minimum value of all elements in X:', X.min())\n",
    "print('Minimum value of all elements in the columns of X:', X.min(axis=0))\n",
    "print('Minimum value of all elements in the rows of X:', X.min(axis=1))"
   ]
  },
  {
   "cell_type": "code",
   "execution_count": 14,
   "metadata": {},
   "outputs": [
    {
     "name": "stdout",
     "output_type": "stream",
     "text": [
      "x + Y = \n",
      " [[ 2  4  6]\n",
      " [ 5  7  9]\n",
      " [ 8 10 12]]\n",
      "\n",
      "Z + Y = \n",
      " [[ 2  3  4]\n",
      " [ 6  7  8]\n",
      " [10 11 12]]\n"
     ]
    }
   ],
   "source": [
    "# Operate on two ndarrays of different shapes\n",
    "# We create a rank 1 ndarray\n",
    "x = np.array([1,2,3])\n",
    "\n",
    "# We create a 3 x 3 ndarray\n",
    "Y = np.array([[1,2,3],[4,5,6],[7,8,9]])\n",
    "\n",
    "# We create a 3 x 1 ndarray\n",
    "Z = np.array([1,2,3]).reshape(3,1)\n",
    "\n",
    "print('x + Y = \\n', x + Y)\n",
    "print()\n",
    "print('Z + Y = \\n',Z + Y)"
   ]
  },
  {
   "cell_type": "code",
   "execution_count": null,
   "metadata": {},
   "outputs": [],
   "source": []
  }
 ],
 "metadata": {
  "kernelspec": {
   "display_name": "conda_python3",
   "language": "python",
   "name": "conda_python3"
  }
 },
 "nbformat": 4,
 "nbformat_minor": 4
}
