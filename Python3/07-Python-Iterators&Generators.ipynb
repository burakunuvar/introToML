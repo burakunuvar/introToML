{
 "cells": [
  {
   "cell_type": "markdown",
   "metadata": {},
   "source": [
    "## <u> Iterators and Generators </u>\n",
    "\n",
    "- An **Iterable** is an object that can return one of their elements at a time, such as a list. \n",
    "\n",
    "\n",
    "- An **iterator** is an object that represents a stream of data, such as enumerate function which takes an iterable and yields stream of indexes. \n",
    "\n",
    "\n",
    "- A **generator** is a simple way to create iterators using functions. You can also [define iterators using classes](https://docs.python.org/3/tutorial/classes.html#iterators)\n",
    "\n",
    "  - This yield keyword is what differentiates a generator from a typical function.\n",
    "  \n",
    "  - This allows the function to return values one at a time, and start where it left off each time it’s called\n",
    "  \n",
    "  - We can convert it to a list or iterate through it in a loop to view its contents\n",
    "  \n",
    "  \n",
    "  \n"
   ]
  },
  {
   "cell_type": "code",
   "execution_count": null,
   "metadata": {},
   "outputs": [],
   "source": [
    "# **Iterable** and **iterator** \n",
    "my_list = ['a','b','c','d','e']\n",
    "for i in my_list:\n",
    "    print(i)\n",
    "\n",
    "for index, char in enumerate(my_list): \n",
    "    print ( index, char ) \n",
    "\n",
    "type(my_list)\n",
    "type(enumerate(my_list))\n",
    "   \n"
   ]
  },
  {
   "cell_type": "code",
   "execution_count": null,
   "metadata": {},
   "outputs": [],
   "source": [
    "# Generator function \n",
    "def my_generator(x):\n",
    "    i = 0\n",
    "    while i < x:\n",
    "        yield i\n",
    "        i += 1\n",
    "    \n",
    "my_iterator = my_generator(5)\n",
    "print(my_iterator)\n",
    "print(list(my_iterator))\n"
   ]
  },
  {
   "cell_type": "markdown",
   "metadata": {},
   "source": [
    "- **Extra bits of Information**\n",
    "\n",
    "  - Generators are a lazy way to build iterables. They are useful when the fully realized list would not fit in memory, or when the cost to calculate each list element is high and you want to do it as late as possible. But they can only be iterated over once. [link for further details](https://softwareengineering.stackexchange.com/questions/290231/when-should-i-use-a-generator-and-when-a-list-in-python/290235)\n",
    "  \n",
    "  - `map()` is a higher-order built-in function that takes a function and iterable as inputs, and returns an iterator that applies the function to each element of the iterable.\n",
    "\n",
    "  - `filter()` is a higher-order built-in function that takes a function and iterable as inputs and returns an iterator with the elements from the iterable for which the function returns True.\n",
    "  \n",
    "  \n",
    "  - **Generator Expressions**\n",
    "  \n",
    "  \n",
    "  - You can actually create a generator in the same way you'd normally write a list comprehension, except with parentheses instead of square brackets. For example:\n",
    "  \n",
    "```python\n",
    "\n",
    "sq_list = [x**2 for x in range(10)]  # this produces a list of squares\n",
    "\n",
    "sq_iterator = (x**2 for x in range(10))  # this produces an iterator of squares\n",
    "\n",
    "```"
   ]
  },
  {
   "cell_type": "code",
   "execution_count": null,
   "metadata": {},
   "outputs": [],
   "source": [
    "# If you have an iterable that is too large to fit in memory in full (e.g., when dealing with large files), \n",
    "# being able to take and use chunks of it at a time can be very valuable\n",
    "\n",
    "# Implement a generator function, chunker, that takes in an iterable and yields a chunk of a specified size at a time.\n",
    "\n",
    "def chunker(iterable, size):\n",
    "    \"\"\"Yield successive chunks from iterable of length size.\"\"\"\n",
    "    for i in range(0, len(iterable), size):\n",
    "        yield iterable[i:i + size]\n",
    "\n",
    "for chunk in chunker(range(25), 4):\n",
    "    print(list(chunk))\n",
    "    \n",
    "# https://stackoverflow.com/questions/312443/how-do-you-split-a-list-into-evenly-sized-chunks"
   ]
  },
  {
   "cell_type": "code",
   "execution_count": null,
   "metadata": {},
   "outputs": [],
   "source": [
    "#build your own enumerate\n",
    "\n",
    "lessons = [\"Why Python Programming\", \"Data Types and Operators\", \"Control Flow\", \"Functions\", \"Scripting\"]\n",
    "\n",
    "def my_enumerate(iterable, start=0):\n",
    "    count = start\n",
    "    for element in iterable:\n",
    "        yield count, element\n",
    "        count += 1\n",
    "\n",
    "for i, lesson in my_enumerate(lessons, 1):\n",
    "    print(\"Lesson {}: {}\".format(i, lesson))"
   ]
  },
  {
   "cell_type": "code",
   "execution_count": 2,
   "metadata": {},
   "outputs": [],
   "source": [
    "sq_iterator = (x**2 for x in range(10))"
   ]
  },
  {
   "cell_type": "code",
   "execution_count": 3,
   "metadata": {},
   "outputs": [
    {
     "name": "stdout",
     "output_type": "stream",
     "text": [
      "<generator object <genexpr> at 0x7efc1c5c9360>\n"
     ]
    }
   ],
   "source": [
    "print(sq_iterator)"
   ]
  },
  {
   "cell_type": "code",
   "execution_count": 4,
   "metadata": {},
   "outputs": [
    {
     "name": "stdout",
     "output_type": "stream",
     "text": [
      "[0, 1, 4, 9, 16, 25, 36, 49, 64, 81]\n"
     ]
    }
   ],
   "source": [
    "print(list(sq_iterator))"
   ]
  },
  {
   "cell_type": "code",
   "execution_count": null,
   "metadata": {},
   "outputs": [],
   "source": []
  }
 ],
 "metadata": {
  "kernelspec": {
   "display_name": "conda_python3",
   "language": "python",
   "name": "conda_python3"
  },
  "language_info": {
   "codemirror_mode": {
    "name": "ipython",
    "version": 3
   },
   "file_extension": ".py",
   "mimetype": "text/x-python",
   "name": "python",
   "nbconvert_exporter": "python",
   "pygments_lexer": "ipython3",
   "version": "3.6.5"
  }
 },
 "nbformat": 4,
 "nbformat_minor": 4
}
